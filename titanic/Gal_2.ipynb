{
 "cells": [
  {
   "cell_type": "code",
   "execution_count": null,
   "metadata": {},
   "outputs": [],
   "source": [
    "# !conda install -c mndrake xgboost"
   ]
  },
  {
   "cell_type": "code",
   "execution_count": 43,
   "metadata": {},
   "outputs": [],
   "source": []
  },
  {
   "cell_type": "code",
   "execution_count": 1,
   "metadata": {},
   "outputs": [
    {
     "name": "stderr",
     "output_type": "stream",
     "text": [
      "C:\\Anaconda2\\lib\\site-packages\\sklearn\\cross_validation.py:44: DeprecationWarning: This module was deprecated in version 0.18 in favor of the model_selection module into which all the refactored classes and functions are moved. Also note that the interface of the new CV iterators are different from that of this module. This module will be removed in 0.20.\n",
      "  \"This module will be removed in 0.20.\", DeprecationWarning)\n",
      "C:\\Anaconda2\\lib\\site-packages\\sklearn\\grid_search.py:43: DeprecationWarning: This module was deprecated in version 0.18 in favor of the model_selection module into which all the refactored classes and functions are moved. This module will be removed in 0.20.\n",
      "  DeprecationWarning)\n"
     ]
    }
   ],
   "source": [
    "import pandas as pd\n",
    "import numpy as np\n",
    "%matplotlib inline\n",
    "import matplotlib.pyplot as plt\n",
    "import matplotlib.cm as cm\n",
    "import pickle\n",
    "import seaborn as sns\n",
    "sns.set_style(\"dark\")\n",
    "from imblearn.over_sampling import SMOTE\n",
    "import xgboost as xgb\n",
    "from xgboost import XGBClassifier\n",
    "from imblearn.under_sampling import RandomUnderSampler\n",
    "from sklearn.grid_search import RandomizedSearchCV,GridSearchCV\n",
    "from sklearn.preprocessing import FunctionTransformer\n",
    "from sklearn.neural_network import MLPClassifier\n",
    "from sklearn.utils import resample,shuffle\n",
    "from sklearn import preprocessing\n",
    "from scipy.stats import probplot\n",
    "from scipy.stats import skew, boxcox\n",
    "from sklearn.cross_validation import KFold, cross_val_score\n",
    "from sklearn.metrics import  precision_recall_curve,auc,cohen_kappa_score,average_precision_score"
   ]
  },
  {
   "cell_type": "code",
   "execution_count": null,
   "metadata": {
    "collapsed": true
   },
   "outputs": [],
   "source": []
  },
  {
   "cell_type": "code",
   "execution_count": 2,
   "metadata": {
    "collapsed": true
   },
   "outputs": [],
   "source": [
    "def drop_columns(df,col_list):\n",
    "    return df.drop(col_list,1)"
   ]
  },
  {
   "cell_type": "code",
   "execution_count": 3,
   "metadata": {
    "collapsed": true
   },
   "outputs": [],
   "source": [
    "def add_binary_col(df,col_orig_name,col_new_name,val):\n",
    "    df['is'+col_new_name] = df[col_orig_name].apply(lambda row: 1 if row == val else 0)\n",
    "    return df"
   ]
  },
  {
   "cell_type": "code",
   "execution_count": 4,
   "metadata": {},
   "outputs": [],
   "source": [
    "def get_stats(df,y_col,y_hat_col):\n",
    "    tp = df[(df[y_hat_col] == 1) & (df[y_col] == 1)].count()[0]\n",
    "    fp = df[(df[y_hat_col] == 1) & (df[y_col] == 0)].count()[0]\n",
    "    tn = df[(df[y_hat_col] == 0) & (df[y_col] == 0)].count()[0]\n",
    "    fn = df[(df[y_hat_col] == 0) & (df[y_col] == 1)].count()[0]\n",
    "    accuracy = float(tp+tn) / (tp+tn+fp+fn)\n",
    "    print 'accuracy:',accuracy\n",
    "    precision = float(tp) / (tp + fp)\n",
    "    print 'precision:',precision\n",
    "    recall = float(tp) / (tp +fn)\n",
    "    print 'recall:',recall\n",
    "    f1 = 2 * (precision*recall) / (precision + recall)\n",
    "    print 'f1:',f1\n",
    "    f2 = 5 * (precision*recall) / (4*precision + recall)\n",
    "    print 'f2:',f2\n",
    "    print 'Kappa :',cohen_kappa_score(df[y_col], df[y_hat_col])\n",
    "    print \"tp : \", tp\n",
    "    print \"tn : \", tn\n",
    "    print \"fp : \", fp\n",
    "    print \"fn : \", fn"
   ]
  },
  {
   "cell_type": "code",
   "execution_count": null,
   "metadata": {
    "collapsed": true
   },
   "outputs": [],
   "source": []
  },
  {
   "cell_type": "markdown",
   "metadata": {},
   "source": [
    "# filtered data (without Merchants)"
   ]
  },
  {
   "cell_type": "code",
   "execution_count": 5,
   "metadata": {
    "collapsed": true
   },
   "outputs": [],
   "source": [
    "data= pd.read_csv('data.csv')\n",
    "# df = pd.read_csv('data.csv')"
   ]
  },
  {
   "cell_type": "code",
   "execution_count": 6,
   "metadata": {},
   "outputs": [
    {
     "data": {
      "image/png": "[encoded data removed]",
      "text/plain": [
       "<matplotlib.figure.Figure at 0x1cb8a160>"
      ]
     },
     "metadata": {},
     "output_type": "display_data"
    }
   ],
   "source": [
    "ax = pd.value_counts(data['isFraud'], sort = True).sort_index().plot(kind='bar', title=\"Fraud transaction count\")\n",
    "for p in ax.patches:\n",
    "    ax.annotate(str(format(int(p.get_height()), ',d')), (p.get_x(), p.get_height()))"
   ]
  },
  {
   "cell_type": "code",
   "execution_count": 7,
   "metadata": {
    "collapsed": true
   },
   "outputs": [],
   "source": [
    "#removing for cols: 'nameOrig','nameDest'\n",
    "non_numeric_cols = ['nameOrig','nameDest','Unnamed: 0','step']\n",
    "data = drop_columns(data,non_numeric_cols)"
   ]
  },
  {
   "cell_type": "code",
   "execution_count": 8,
   "metadata": {
    "collapsed": true
   },
   "outputs": [],
   "source": [
    "rel_types = ['CASH_OUT','TRANSFER']"
   ]
  },
  {
   "cell_type": "code",
   "execution_count": 9,
   "metadata": {},
   "outputs": [],
   "source": [
    "data = data[(data['type'] ==rel_types[0]) | (data['type'] ==rel_types[1]) ]"
   ]
  },
  {
   "cell_type": "code",
   "execution_count": 10,
   "metadata": {},
   "outputs": [],
   "source": [
    "for type_col in rel_types:\n",
    "    data = add_binary_col(data,'type',type_col,type_col)"
   ]
  },
  {
   "cell_type": "code",
   "execution_count": 11,
   "metadata": {},
   "outputs": [],
   "source": [
    "data = drop_columns(data,'type')"
   ]
  },
  {
   "cell_type": "code",
   "execution_count": 12,
   "metadata": {
    "collapsed": true
   },
   "outputs": [],
   "source": [
    "normalized_cols = list(data.columns.values)"
   ]
  },
  {
   "cell_type": "code",
   "execution_count": 13,
   "metadata": {
    "collapsed": true
   },
   "outputs": [],
   "source": [
    "min_max_scaler = preprocessing.MinMaxScaler()\n",
    "normalized_data = min_max_scaler.fit_transform(data)"
   ]
  },
  {
   "cell_type": "code",
   "execution_count": 14,
   "metadata": {},
   "outputs": [],
   "source": [
    "normalized_data = pd.DataFrame(normalized_data,columns=normalized_cols)"
   ]
  },
  {
   "cell_type": "code",
   "execution_count": 15,
   "metadata": {
    "collapsed": true
   },
   "outputs": [],
   "source": [
    "y_col = 'isFraud'"
   ]
  },
  {
   "cell_type": "code",
   "execution_count": 16,
   "metadata": {},
   "outputs": [],
   "source": [
    "train = normalized_data.sample(frac=0.8,random_state=np.random.RandomState(3))\n",
    "y_train = train[y_col]\n",
    "x_train = drop_columns(train,[y_col])"
   ]
  },
  {
   "cell_type": "code",
   "execution_count": 17,
   "metadata": {},
   "outputs": [],
   "source": [
    "test=normalized_data.drop(train.index)\n",
    "y_test = test[y_col]\n",
    "x_test = drop_columns(test,[y_col])\n",
    "dat_true=normalized_data[normalized_data.isFraud==1]\n",
    "data_train_true = dat_true.sample(frac=0.8,random_state=np.random.RandomState(3))\n",
    "test_true=dat_true.drop(data_train_true .index)\n",
    "dat_false=normalized_data[normalized_data.isFraud==0]\n",
    "data_train_false = dat_false.sample(frac=0.8,random_state=np.random.RandomState(3))\n",
    "test_false=dat_false.drop(data_train_false .index)"
   ]
  },
  {
   "cell_type": "code",
   "execution_count": 18,
   "metadata": {},
   "outputs": [],
   "source": [
    "new_train = data_train_true.append(data_train_false, ignore_index=True)\n",
    "# new_train= shuffle(new_train)\n",
    "y_train = new_train[y_col]\n",
    "x_train = drop_columns(new_train,y_col)\n",
    "new_test = test_true.append(test_false,ignore_index=True)\n",
    "# new_test= shuffle(new_test)\n",
    "y_test = new_test[y_col]\n",
    "x_test = drop_columns(new_test,y_col)\n"
   ]
  },
  {
   "cell_type": "code",
   "execution_count": null,
   "metadata": {},
   "outputs": [],
   "source": []
  },
  {
   "cell_type": "code",
   "execution_count": 28,
   "metadata": {},
   "outputs": [
    {
     "data": {
      "text/plain": [
       "0.99703473493093075"
      ]
     },
     "execution_count": 28,
     "metadata": {},
     "output_type": "execute_result"
    }
   ],
   "source": [
    "sum(1-y_test)/len(y_test)"
   ]
  },
  {
   "cell_type": "code",
   "execution_count": 26,
   "metadata": {},
   "outputs": [
    {
     "data": {
      "text/plain": [
       "4"
      ]
     },
     "execution_count": 26,
     "metadata": {},
     "output_type": "execute_result"
    }
   ],
   "source": [
    "sum(x_test[x_test['isFlaggedFraud'] == 1])"
   ]
  },
  {
   "cell_type": "code",
   "execution_count": 27,
   "metadata": {},
   "outputs": [
    {
     "data": {
      "text/plain": [
       "1424    1.0\n",
       "1483    1.0\n",
       "1554    1.0\n",
       "1615    1.0\n",
       "Name: isFraud, dtype: float64"
      ]
     },
     "execution_count": 27,
     "metadata": {},
     "output_type": "execute_result"
    }
   ],
   "source": [
    "y_test[x_test['isFlaggedFraud'] == 1]"
   ]
  },
  {
   "cell_type": "code",
   "execution_count": 80,
   "metadata": {
    "collapsed": true
   },
   "outputs": [],
   "source": [
    "# # new_data_train_false = data_train_false.sample(frac=0.8,random_state=np.random.RandomState(3))\n",
    "# new_train = data_train_true.append(new_data_train_false, ignore_index=True)\n",
    "# # new_train= shuffle(new_train)\n",
    "# y_train = new_train[y_col]\n",
    "# x_train = drop_columns(new_train,y_col)\n",
    "# new_test = test_true.append(test_false,ignore_index=True)\n",
    "# # new_test= shuffle(new_test)\n",
    "# y_test = new_test[y_col]\n",
    "# x_test = drop_columns(new_test,y_col)"
   ]
  },
  {
   "cell_type": "code",
   "execution_count": null,
   "metadata": {
    "collapsed": true
   },
   "outputs": [],
   "source": []
  },
  {
   "cell_type": "code",
   "execution_count": null,
   "metadata": {},
   "outputs": [],
   "source": []
  },
  {
   "cell_type": "code",
   "execution_count": null,
   "metadata": {
    "collapsed": true
   },
   "outputs": [],
   "source": []
  },
  {
   "cell_type": "code",
   "execution_count": 37,
   "metadata": {
    "collapsed": true
   },
   "outputs": [],
   "source": [
    "# new_train = data_train_true.append(data_train_false, ignore_index=True)\n",
    "# y_train = new_train[y_col]\n",
    "# x_train = drop_columns(new_train,y_col)\n",
    "# new_test = test_true.append(test_false,ignore_index=True)\n",
    "# y_test = new_test[y_col]\n",
    "# x_test = drop_columns(new_test,y_col)"
   ]
  },
  {
   "cell_type": "code",
   "execution_count": 19,
   "metadata": {
    "collapsed": true
   },
   "outputs": [],
   "source": [
    "sm = SMOTE(kind='regular',random_state=1)\n",
    "x_train, y_train = sm.fit_sample(x_train,y_train)"
   ]
  },
  {
   "cell_type": "markdown",
   "metadata": {},
   "source": [
    "# Models:"
   ]
  },
  {
   "cell_type": "markdown",
   "metadata": {},
   "source": [
    "### xgboost"
   ]
  },
  {
   "cell_type": "code",
   "execution_count": 20,
   "metadata": {},
   "outputs": [],
   "source": [
    "xgb1 = XGBClassifier(\n",
    " objective= 'binary:logistic',\n",
    " learning_rate = 0.001,\n",
    "    max_depth = 7,\n",
    " seed=27) "
   ]
  },
  {
   "cell_type": "code",
   "execution_count": 21,
   "metadata": {},
   "outputs": [
    {
     "data": {
      "text/plain": [
       "XGBClassifier(base_score=0.5, colsample_bytree=1, gamma=0,\n",
       "       learning_rate=0.001, max_delta_step=0, max_depth=7,\n",
       "       min_child_weight=1, n_estimators=100, nthread=-1,\n",
       "       objective='binary:logistic', seed=27, silent=True, subsample=1)"
      ]
     },
     "execution_count": 21,
     "metadata": {},
     "output_type": "execute_result"
    }
   ],
   "source": [
    "xgb1.fit(x_train,y_train)"
   ]
  },
  {
   "cell_type": "code",
   "execution_count": 24,
   "metadata": {},
   "outputs": [
    {
     "data": {
      "text/plain": [
       "{'base_score': 0.5,\n",
       " 'colsample_bytree': 1,\n",
       " 'gamma': 0,\n",
       " 'learning_rate': 0.001,\n",
       " 'max_delta_step': 0,\n",
       " 'max_depth': 7,\n",
       " 'min_child_weight': 1,\n",
       " 'n_estimators': 100,\n",
       " 'nthread': -1,\n",
       " 'objective': 'binary:logistic',\n",
       " 'seed': 27,\n",
       " 'silent': True,\n",
       " 'subsample': 1}"
      ]
     },
     "execution_count": 24,
     "metadata": {},
     "output_type": "execute_result"
    }
   ],
   "source": [
    "xgb1.get_params()"
   ]
  },
  {
   "cell_type": "code",
   "execution_count": 25,
   "metadata": {},
   "outputs": [
    {
     "name": "stdout",
     "output_type": "stream",
     "text": [
      "accuracy: 0.751040459715\n",
      "precision: 0.0109225304101\n",
      "recall: 0.926354230067\n",
      "f1: 0.0215904899708\n",
      "f2: 0.0521529362583\n",
      "Kappa : -216.375541063\n",
      "tp :  1522\n",
      "tn :  414616\n",
      "fp :  137823\n",
      "fn :  121\n"
     ]
    }
   ],
   "source": [
    "y_hat_xgboost = xgb1.predict_proba(x_test)\n",
    "new_test = pd.DataFrame(y_test)\n",
    "new_test['y_hat_xgboost'] = pd.DataFrame(xgb1.predict(x_test))\n",
    "get_stats(new_test,'isFraud','y_hat_xgboost')"
   ]
  },
  {
   "cell_type": "code",
   "execution_count": 103,
   "metadata": {},
   "outputs": [
    {
     "name": "stdout",
     "output_type": "stream",
     "text": [
      "accuracy: 0.751040459715\n",
      "precision: 0.0109225304101\n",
      "recall: 0.926354230067\n",
      "f1: 0.0215904899708\n",
      "f2: 0.0521529362583\n",
      "Kappa : -216.375541063\n"
     ]
    }
   ],
   "source": [
    "# max_depth = 7, learning_rate =0.001 \n",
    "y_hat_xgboost = xgb1.predict_proba(x_test)\n",
    "new_test = pd.DataFrame(y_test)\n",
    "new_test['y_hat_xgboost'] = pd.DataFrame(xgb1.predict(x_test))\n",
    "get_stats(new_test,'isFraud','y_hat_xgboost')"
   ]
  },
  {
   "cell_type": "code",
   "execution_count": null,
   "metadata": {
    "collapsed": true
   },
   "outputs": [],
   "source": []
  },
  {
   "cell_type": "code",
   "execution_count": null,
   "metadata": {
    "collapsed": true
   },
   "outputs": [],
   "source": []
  },
  {
   "cell_type": "code",
   "execution_count": null,
   "metadata": {
    "collapsed": true
   },
   "outputs": [],
   "source": []
  },
  {
   "cell_type": "code",
   "execution_count": null,
   "metadata": {
    "collapsed": true
   },
   "outputs": [],
   "source": []
  },
  {
   "cell_type": "code",
   "execution_count": 42,
   "metadata": {},
   "outputs": [
    {
     "name": "stdout",
     "output_type": "stream",
     "text": [
      "accuracy: 0.65732869864\n",
      "precision: 0.00852781592869\n",
      "recall: 0.993913572733\n",
      "f1: 0.0169105387969\n",
      "f2: 0.0412242569284\n",
      "Kappa : 107.120506872\n"
     ]
    }
   ],
   "source": [
    "# max_depth = 7, learning_rate =0.001\n",
    "y_hat_xgboost = xgb1.predict_proba(x_test)\n",
    "new_test = pd.DataFrame(y_test)\n",
    "new_test['y_hat_xgboost'] = pd.DataFrame(xgb1.predict(x_test))\n",
    "get_stats(new_test,'isFraud','y_hat_xgboost')"
   ]
  },
  {
   "cell_type": "code",
   "execution_count": null,
   "metadata": {},
   "outputs": [],
   "source": []
  },
  {
   "cell_type": "code",
   "execution_count": null,
   "metadata": {
    "collapsed": true
   },
   "outputs": [],
   "source": []
  },
  {
   "cell_type": "code",
   "execution_count": 100,
   "metadata": {},
   "outputs": [
    {
     "data": {
      "text/plain": [
       "<bound method XGBClassifier.get_params of XGBClassifier(base_score=0.5, colsample_bytree=1, gamma=0,\n",
       "       learning_rate=0.001, max_delta_step=0, max_depth=7,\n",
       "       min_child_weight=1, n_estimators=100, nthread=-1,\n",
       "       objective='binary:logistic', seed=27, silent=True, subsample=1)>"
      ]
     },
     "execution_count": 100,
     "metadata": {},
     "output_type": "execute_result"
    }
   ],
   "source": []
  },
  {
   "cell_type": "code",
   "execution_count": null,
   "metadata": {
    "collapsed": true
   },
   "outputs": [],
   "source": []
  },
  {
   "cell_type": "code",
   "execution_count": 22,
   "metadata": {
    "collapsed": true
   },
   "outputs": [],
   "source": [
    "pickle.dump(xgb1,open('xgb1.p','wb'))"
   ]
  },
  {
   "cell_type": "code",
   "execution_count": 23,
   "metadata": {
    "collapsed": true
   },
   "outputs": [],
   "source": [
    "xgb_test = pickle.load(open('xgb1.p', 'rb'))"
   ]
  },
  {
   "cell_type": "code",
   "execution_count": 105,
   "metadata": {
    "collapsed": true
   },
   "outputs": [],
   "source": []
  },
  {
   "cell_type": "code",
   "execution_count": 106,
   "metadata": {},
   "outputs": [
    {
     "name": "stdout",
     "output_type": "stream",
     "text": [
      "accuracy: 0.751040459715\n",
      "precision: 0.0109225304101\n",
      "recall: 0.926354230067\n",
      "f1: 0.0215904899708\n",
      "f2: 0.0521529362583\n",
      "Kappa : -216.375541063\n"
     ]
    }
   ],
   "source": [
    "y_hat_xgboost = xgb_test.predict_proba(x_test)\n",
    "new_test = pd.DataFrame(y_test)\n",
    "new_test['y_hat_xgboost'] = pd.DataFrame(xgb_test.predict(x_test))\n",
    "get_stats(new_test,'isFraud','y_hat_xgboost')"
   ]
  },
  {
   "cell_type": "code",
   "execution_count": null,
   "metadata": {
    "collapsed": true
   },
   "outputs": [],
   "source": []
  },
  {
   "cell_type": "code",
   "execution_count": 61,
   "metadata": {},
   "outputs": [],
   "source": [
    "xgb1 = XGBClassifier(\n",
    " objective= 'binary:logistic',\n",
    " learning_rate = 0.001,\n",
    "    n_estimators = 100,\n",
    " seed=27) # maybe 0"
   ]
  },
  {
   "cell_type": "code",
   "execution_count": 62,
   "metadata": {
    "scrolled": true
   },
   "outputs": [
    {
     "data": {
      "text/plain": [
       "RandomizedSearchCV(cv=5, error_score='raise',\n",
       "          estimator=XGBClassifier(base_score=0.5, colsample_bytree=1, gamma=0,\n",
       "       learning_rate=0.001, max_delta_step=0, max_depth=3,\n",
       "       min_child_weight=1, n_estimators=100, nthread=-1,\n",
       "       objective='binary:logistic', seed=27, silent=True, subsample=1),\n",
       "          fit_params={}, iid=True, n_iter=10, n_jobs=4,\n",
       "          param_distributions={'learning_rate': [0.01, 0.1], 'max_depth': [3, 5, 7, 9], 'min_child_weight': [1, 3, 5]},\n",
       "          pre_dispatch='2*n_jobs', random_state=None, refit=True,\n",
       "          scoring='f1', verbose=0)"
      ]
     },
     "execution_count": 62,
     "metadata": {},
     "output_type": "execute_result"
    }
   ],
   "source": [
    "param_test1 = {'max_depth':range(3,10,2), 'min_child_weight':range(1,6,2),'learning_rate':[0.01,0.1] }\n",
    "gsearch1 = RandomizedSearchCV(estimator = xgb1, param_distributions= param_test1,n_jobs= 4,\n",
    "                              scoring='f1', cv=5)\n",
    "gsearch1.fit(x_train,y_train)"
   ]
  },
  {
   "cell_type": "code",
   "execution_count": 63,
   "metadata": {},
   "outputs": [
    {
     "data": {
      "text/plain": [
       "XGBClassifier(base_score=0.5, colsample_bytree=1, gamma=0, learning_rate=0.1,\n",
       "       max_delta_step=0, max_depth=9, min_child_weight=1, n_estimators=100,\n",
       "       nthread=-1, objective='binary:logistic', seed=27, silent=True,\n",
       "       subsample=1)"
      ]
     },
     "execution_count": 63,
     "metadata": {},
     "output_type": "execute_result"
    }
   ],
   "source": [
    "gsearch1.best_estimator_"
   ]
  },
  {
   "cell_type": "code",
   "execution_count": 64,
   "metadata": {},
   "outputs": [
    {
     "name": "stdout",
     "output_type": "stream",
     "text": [
      "accuracy: 0.749762670507\n",
      "precision: 0.002967488228\n",
      "recall: 0.248934875228\n",
      "f1: 0.00586506058651\n",
      "f2: 0.0141621479373\n",
      "Kappa : 159.566521584\n"
     ]
    }
   ],
   "source": [
    "y_hat_xgboost = gsearch1.predict_proba(x_test)\n",
    "new_test = pd.DataFrame(y_test)\n",
    "new_test['y_hat_xgboost'] = pd.DataFrame(gsearch1.predict(x_test))\n",
    "get_stats(new_test,'isFraud','y_hat_xgboost')"
   ]
  },
  {
   "cell_type": "code",
   "execution_count": null,
   "metadata": {
    "collapsed": true
   },
   "outputs": [],
   "source": []
  },
  {
   "cell_type": "code",
   "execution_count": null,
   "metadata": {
    "collapsed": true
   },
   "outputs": [],
   "source": []
  },
  {
   "cell_type": "code",
   "execution_count": null,
   "metadata": {
    "collapsed": true
   },
   "outputs": [],
   "source": []
  },
  {
   "cell_type": "code",
   "execution_count": null,
   "metadata": {},
   "outputs": [],
   "source": []
  },
  {
   "cell_type": "code",
   "execution_count": null,
   "metadata": {
    "collapsed": true
   },
   "outputs": [],
   "source": [
    "param_test1 = {'max_depth':range(3,10,2), 'min_child_weight':range(1,6,2),'learning_rate':[0.01,0.1] }\n",
    "gsearch1 = RandomizedSearchCV(estimator = xgb1, param_distributions= param_test1,n_jobs= 4,\n",
    "                              scoring='f1', cv=5)\n",
    "gsearch1.fit(x_train,y_train)"
   ]
  },
  {
   "cell_type": "code",
   "execution_count": null,
   "metadata": {
    "collapsed": true
   },
   "outputs": [],
   "source": [
    "gsearch1.best_estimator_"
   ]
  },
  {
   "cell_type": "code",
   "execution_count": null,
   "metadata": {
    "collapsed": true
   },
   "outputs": [],
   "source": [
    "y_hat_xgboost = gsearch1.predict_proba(x_test)\n",
    "new_test = pd.DataFrame(y_test)\n",
    "new_test['y_hat_xgboost'] = pd.DataFrame(gsearch1.predict(x_test))\n",
    "get_stats(new_test,'isFraud','y_hat_xgboost')"
   ]
  },
  {
   "cell_type": "code",
   "execution_count": null,
   "metadata": {
    "collapsed": true
   },
   "outputs": [],
   "source": []
  },
  {
   "cell_type": "code",
   "execution_count": null,
   "metadata": {
    "collapsed": true
   },
   "outputs": [],
   "source": []
  },
  {
   "cell_type": "code",
   "execution_count": null,
   "metadata": {
    "collapsed": true
   },
   "outputs": [],
   "source": []
  },
  {
   "cell_type": "code",
   "execution_count": null,
   "metadata": {
    "collapsed": true
   },
   "outputs": [],
   "source": []
  },
  {
   "cell_type": "code",
   "execution_count": null,
   "metadata": {
    "collapsed": true
   },
   "outputs": [],
   "source": []
  },
  {
   "cell_type": "code",
   "execution_count": 42,
   "metadata": {},
   "outputs": [
    {
     "data": {
      "text/plain": [
       "GridSearchCV(cv=5, error_score='raise',\n",
       "       estimator=XGBClassifier(base_score=0.5, colsample_bytree=1, gamma=0,\n",
       "       learning_rate=0.001, max_delta_step=0, max_depth=3,\n",
       "       min_child_weight=1, n_estimators=100, nthread=-1,\n",
       "       objective='binary:logistic', seed=27, silent=True, subsample=1),\n",
       "       fit_params={}, iid=True, n_jobs=4,\n",
       "       param_grid={'max_depth': [3, 5, 7, 9], 'min_child_weight': [1, 3, 5]},\n",
       "       pre_dispatch='2*n_jobs', refit=True, scoring='f1', verbose=0)"
      ]
     },
     "execution_count": 42,
     "metadata": {},
     "output_type": "execute_result"
    }
   ],
   "source": [
    "param_test1 = {'max_depth':range(3,10,2), 'min_child_weight':range(1,6,2) }\n",
    "gsearch1 = GridSearchCV(estimator = xgb1, param_grid = param_test1,n_jobs= 4,\n",
    "                              scoring='f1', cv=5)\n",
    "gsearch1.fit(x_train,y_train)"
   ]
  },
  {
   "cell_type": "code",
   "execution_count": 43,
   "metadata": {},
   "outputs": [
    {
     "data": {
      "text/plain": [
       "XGBClassifier(base_score=0.5, colsample_bytree=1, gamma=0,\n",
       "       learning_rate=0.001, max_delta_step=0, max_depth=9,\n",
       "       min_child_weight=1, n_estimators=100, nthread=-1,\n",
       "       objective='binary:logistic', seed=27, silent=True, subsample=1)"
      ]
     },
     "execution_count": 43,
     "metadata": {},
     "output_type": "execute_result"
    }
   ],
   "source": [
    "gsearch1.best_estimator_"
   ]
  },
  {
   "cell_type": "code",
   "execution_count": 44,
   "metadata": {},
   "outputs": [
    {
     "name": "stdout",
     "output_type": "stream",
     "text": [
      "accuracy: 0.75374222588\n",
      "precision: 0.0109985780203\n",
      "recall: 0.922702373707\n",
      "f1: 0.0217380394181\n",
      "f2: 0.0524901667498\n",
      "Kappa : 158.657915105\n"
     ]
    }
   ],
   "source": [
    "###### n_estimators = 100 , scoring = f (instead of average_precision) , ratio = 0.82\n",
    "y_hat_xgboost = gsearch1.predict_proba(x_test)\n",
    "new_test = pd.DataFrame(y_test)\n",
    "new_test['y_hat_xgboost'] = pd.DataFrame(gsearch1.predict(x_test))\n",
    "get_stats(new_test,'isFraud','y_hat_xgboost')"
   ]
  },
  {
   "cell_type": "code",
   "execution_count": null,
   "metadata": {
    "collapsed": true
   },
   "outputs": [],
   "source": [
    "xgb1 = XGBClassifier(\n",
    " objective= 'binary:logistic',\n",
    " learning_rate = 0.001,\n",
    "    n_estimators = 100,\n",
    "    max_depth = 7,\n",
    "    silent = False,\n",
    " seed=27) # maybe 0"
   ]
  },
  {
   "cell_type": "code",
   "execution_count": 22,
   "metadata": {},
   "outputs": [
    {
     "data": {
      "text/plain": [
       "XGBClassifier(base_score=0.5, colsample_bytree=1, gamma=0,\n",
       "       learning_rate=0.001, max_delta_step=0, max_depth=7,\n",
       "       min_child_weight=1, n_estimators=100, nthread=-1,\n",
       "       objective='binary:logistic', seed=27, silent=True, subsample=1)"
      ]
     },
     "execution_count": 22,
     "metadata": {},
     "output_type": "execute_result"
    }
   ],
   "source": [
    "gsearch1.best_estimator_"
   ]
  },
  {
   "cell_type": "code",
   "execution_count": 23,
   "metadata": {},
   "outputs": [
    {
     "name": "stdout",
     "output_type": "stream",
     "text": [
      "accuracy: 0.751506094766\n",
      "precision: 0.0109357587087\n",
      "recall: 0.92574558734\n",
      "f1: 0.0216161673583\n",
      "f2: 0.0522117028361\n",
      "Kappa : -365.059263943\n"
     ]
    }
   ],
   "source": [
    "###### n_estimators = 100 , scoring = f (instead of average_precision)\n",
    "y_hat_xgboost = gsearch1.predict_proba(x_test)\n",
    "new_test = pd.DataFrame(y_test)\n",
    "new_test['y_hat_xgboost'] = pd.DataFrame(gsearch1.predict(x_test))\n",
    "get_stats(new_test,'isFraud','y_hat_xgboost')"
   ]
  },
  {
   "cell_type": "code",
   "execution_count": 23,
   "metadata": {},
   "outputs": [
    {
     "name": "stdout",
     "output_type": "stream",
     "text": [
      "accuracy: 0.751995192047\n",
      "precision: 0.010964153988\n",
      "recall: 0.926354230067\n",
      "f1: 0.0216718045835\n",
      "f2: 0.0523426967838\n",
      "Kappa : -1262.86902122\n"
     ]
    }
   ],
   "source": [
    "###### n_estimators = 150 , scoring = f (instead of average_precision)\n",
    "y_hat_xgboost = gsearch1.predict_proba(x_test)\n",
    "new_test = pd.DataFrame(y_test)\n",
    "new_test['y_hat_xgboost'] = pd.DataFrame(gsearch1.predict(x_test))\n",
    "get_stats(new_test,'isFraud','y_hat_xgboost')"
   ]
  },
  {
   "cell_type": "code",
   "execution_count": null,
   "metadata": {
    "collapsed": true
   },
   "outputs": [],
   "source": []
  },
  {
   "cell_type": "code",
   "execution_count": 49,
   "metadata": {},
   "outputs": [
    {
     "name": "stdout",
     "output_type": "stream",
     "text": [
      "accuracy: 0.753661010464\n",
      "precision: 0.0110233593688\n",
      "recall: 0.925136944614\n",
      "f1: 0.0217871169337\n",
      "f2: 0.052609354774\n",
      "Kappa : 168.932956727\n"
     ]
    }
   ],
   "source": [
    "##### n_estimators = 100\n",
    "y_hat_xgboost = gsearch1.predict_proba(x_test)\n",
    "new_test = pd.DataFrame(y_test)\n",
    "new_test['y_hat_xgboost'] = pd.DataFrame(gsearch1.predict(x_test))\n",
    "get_stats(new_test,'isFraud','y_hat_xgboost')"
   ]
  },
  {
   "cell_type": "code",
   "execution_count": 46,
   "metadata": {},
   "outputs": [
    {
     "name": "stdout",
     "output_type": "stream",
     "text": [
      "accuracy: 0.998671676755\n",
      "precision: 0.904549509367\n",
      "recall: 0.617163724893\n",
      "f1: 0.733719247467\n",
      "f2: 0.659040686338\n",
      "Kappa : 0.733077230192\n"
     ]
    }
   ],
   "source": [
    "#xgb1 wih n_estimators=100,seed=27 (smote ratio = 0.45)\n",
    "new_test = pd.DataFrame(y_test)\n",
    "new_test['y_hat_xgboost'] = pd.DataFrame(model.predict(x_test))\n",
    "get_stats(new_test,'isFraud','y_hat_xgboost')"
   ]
  },
  {
   "cell_type": "code",
   "execution_count": 23,
   "metadata": {},
   "outputs": [
    {
     "name": "stdout",
     "output_type": "stream",
     "text": [
      "accuracy: 0.657054371014\n",
      "precision: 0.008505664355\n",
      "recall: 0.992087644553\n",
      "f1: 0.0168667218543\n",
      "f2: 0.0411182136028\n",
      "Kappa : 116.58117373\n"
     ]
    }
   ],
   "source": [
    "#smote -same as before\n",
    "new_test = pd.DataFrame(y_test)\n",
    "new_test['y_hat_xgboost'] = pd.DataFrame(model.predict(x_test))\n",
    "get_stats(new_test,'isFraud','y_hat_xgboost')"
   ]
  },
  {
   "cell_type": "code",
   "execution_count": 23,
   "metadata": {},
   "outputs": [
    {
     "name": "stdout",
     "output_type": "stream",
     "text": [
      "accuracy: 0.998610313997\n",
      "precision: 0.904541241891\n",
      "recall: 0.594035301278\n",
      "f1: 0.717119764879\n",
      "f2: 0.637825120899\n",
      "Kappa : 0.716453185901\n"
     ]
    }
   ],
   "source": [
    "new_test = pd.DataFrame(y_test)\n",
    "new_test['y_hat_xgboost'] = pd.DataFrame(model.predict(x_test))\n",
    "get_stats(new_test,'isFraud','y_hat_xgboost')"
   ]
  },
  {
   "cell_type": "markdown",
   "metadata": {},
   "source": [
    "### NN"
   ]
  },
  {
   "cell_type": "code",
   "execution_count": 45,
   "metadata": {},
   "outputs": [
    {
     "data": {
      "text/plain": [
       "MLPClassifier(activation='relu', alpha=1e-05, batch_size='auto', beta_1=0.9,\n",
       "       beta_2=0.999, early_stopping=False, epsilon=1e-08,\n",
       "       hidden_layer_sizes=(5, 2), learning_rate='constant',\n",
       "       learning_rate_init=0.001, max_iter=200, momentum=0.9,\n",
       "       nesterovs_momentum=True, power_t=0.5, random_state=None,\n",
       "       shuffle=True, solver='lbfgs', tol=0.0001, validation_fraction=0.1,\n",
       "       verbose=False, warm_start=False)"
      ]
     },
     "execution_count": 45,
     "metadata": {},
     "output_type": "execute_result"
    }
   ],
   "source": [
    "clf = MLPClassifier(solver='lbfgs', alpha=1e-5, hidden_layer_sizes=(5,2))\n",
    "clf.fit(x_train,y_train)"
   ]
  },
  {
   "cell_type": "code",
   "execution_count": 46,
   "metadata": {
    "collapsed": true
   },
   "outputs": [],
   "source": [
    "y_hat_nn = clf.predict_proba(x_test)"
   ]
  },
  {
   "cell_type": "code",
   "execution_count": null,
   "metadata": {
    "collapsed": true
   },
   "outputs": [],
   "source": [
    "\n"
   ]
  },
  {
   "cell_type": "code",
   "execution_count": 41,
   "metadata": {},
   "outputs": [
    {
     "name": "stdout",
     "output_type": "stream",
     "text": [
      "accuracy: 0.779512779697\n",
      "precision: 0.0115580699806\n",
      "recall: 0.867924528302\n",
      "f1: 0.022812350024\n",
      "f2: 0.0548676788586\n",
      "Kappa : -461.250589816\n"
     ]
    }
   ],
   "source": [
    "new_test['y_hat_nn'] = pd.DataFrame(clf.predict(x_test))\n",
    "get_stats(new_test,'isFraud','y_hat_nn')"
   ]
  },
  {
   "cell_type": "code",
   "execution_count": 47,
   "metadata": {},
   "outputs": [],
   "source": [
    "precision_xgboost, recall_xgboost, _ = precision_recall_curve(y_test, y_hat_xgboost[:,1])\n",
    "average_precision_xgboost = average_precision_score(y_test, y_hat_xgboost[:,1])\n",
    "precision_nn, recall_nn, _ = precision_recall_curve(y_test, y_hat_nn[:,1])\n",
    "average_precision_nn = average_precision_score(y_test, y_hat_nn[:,1])\n",
    "plt.figure()\n",
    "plt.plot(recall_xgboost, precision_xgboost,color = 'r',\n",
    "         label='Precision-recall xgboost (area = '+str(round(average_precision_xgboost,4))+')')\n",
    "plt.plot(recall_nn, precision_nn, color = 'b',\n",
    "        label='Precision-recall NN (area = '+str(round(average_precision_nn,4))+')')\n",
    "plt.title('Precision-Recall Curve')\n",
    "plt.xlabel('Recall')\n",
    "plt.ylabel('Precision')\n",
    "plt.ylim([0.0, 1.05])\n",
    "plt.xlim([0.0, 1.0])\n",
    "plt.legend(loc=\"lower left\",fontsize='small')\n",
    "plt.savefig('precision-recall_curve.jpg')\n",
    "plt.close()"
   ]
  },
  {
   "cell_type": "code",
   "execution_count": null,
   "metadata": {
    "collapsed": true
   },
   "outputs": [],
   "source": []
  },
  {
   "cell_type": "code",
   "execution_count": null,
   "metadata": {
    "collapsed": true
   },
   "outputs": [],
   "source": []
  },
  {
   "cell_type": "code",
   "execution_count": null,
   "metadata": {
    "collapsed": true
   },
   "outputs": [],
   "source": []
  }
 ],
 "metadata": {
  "anaconda-cloud": {},
  "kernelspec": {
   "display_name": "Python 3",
   "language": "python",
   "name": "python3"
  },
  "language_info": {
   "codemirror_mode": {
    "name": "ipython",
    "version": 3
   },
   "file_extension": ".py",
   "mimetype": "text/x-python",
   "name": "python",
   "nbconvert_exporter": "python",
   "pygments_lexer": "ipython3",
   "version": "3.6.1"
  }
 },
 "nbformat": 4,
 "nbformat_minor": 1
}
