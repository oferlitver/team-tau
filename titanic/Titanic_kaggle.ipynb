{
 "cells": [
  {
   "cell_type": "code",
   "execution_count": 252,
   "metadata": {},
   "outputs": [],
   "source": [
    "import pandas as pd\n",
    "import numpy as np\n",
    "import seaborn as sns\n",
    "import matplotlib\n",
    "%matplotlib inline\n",
    "import matplotlib.pyplot as plt\n",
    "sns.set_style(\"dark\")\n",
    "import statsmodels.api as sm\n",
    "from sklearn.ensemble import IsolationForest\n",
    "from sklearn.decomposition import PCA\n",
    "from imblearn.over_sampling import SMOTE\n",
    "from sklearn.linear_model import LogisticRegression,Ridge,Lasso\n",
    "from sklearn.svm import SVC,SVR\n",
    "from sklearn.ensemble import RandomForestClassifier, RandomForestRegressor\n",
    "from sklearn.ensemble import GradientBoostingClassifier,GradientBoostingRegressor\n",
    "from sklearn.model_selection import GridSearchCV\n",
    "from sklearn.metrics import confusion_matrix\n",
    "from scipy.stats import gaussian_kde\n",
    "# from sklearn.preprocessing import scale"
   ]
  },
  {
   "cell_type": "markdown",
   "metadata": {},
   "source": [
    "## TODO: \n",
    "\n",
    "1. Predict age by using a combination of models and reconstruct train\n",
    "2. Predict age in test set\n",
    "2. Use SMOTE to balance the data\n",
    "3. create models for classificatoin"
   ]
  },
  {
   "cell_type": "markdown",
   "metadata": {},
   "source": [
    "## functions"
   ]
  },
  {
   "cell_type": "code",
   "execution_count": 206,
   "metadata": {},
   "outputs": [
    {
     "name": "stdout",
     "output_type": "stream",
     "text": [
      "[12, 213, 3, 12, 321, 3]\n"
     ]
    }
   ],
   "source": [
    "a = [12,213,3,12,321,3]\n",
    "if filter(lambda x: x>3200,a):\n",
    "    print(a)\n",
    "else:\n",
    "    print(\"Dsadsa\")"
   ]
  },
  {
   "cell_type": "code",
   "execution_count": 207,
   "metadata": {},
   "outputs": [],
   "source": [
    "def get_null_rows(df,att):   ###returns the inddices and and index of the column with the null values\n",
    "    rel_locations = df[att].isnull().nonzero()[0]\n",
    "    att_idx = (df.columns == att).nonzero()[0][0]\n",
    "    return (rel_locations,att_idx)"
   ]
  },
  {
   "cell_type": "code",
   "execution_count": 208,
   "metadata": {},
   "outputs": [],
   "source": [
    "# def get_best_model(initial_model,X,y,val_X=None,val_y=None,cv=5,params = None,has_val = True):\n",
    "def get_best_model(initial_model,X,y,cv=5,params = None):\n",
    "    model = GridSearchCV(initial_model,cv=cv,param_grid=params)\n",
    "    model.fit(X,y)\n",
    "#     if has_val:\n",
    "#         predict = model.predict(val_X)\n",
    "#         accuracy = (1. * np.sum(predict == val_y ) / len(val_y))\n",
    "#         print \"The accuracy of best model on validation is %f \" %(accuracy)\n",
    "#         print \"Confusion matrix of best model on validation: \\n\",confusion_matrix(val_y,predict)\n",
    "    return model.best_estimator_"
   ]
  },
  {
   "cell_type": "markdown",
   "metadata": {
    "collapsed": true
   },
   "source": [
    "## Get the data"
   ]
  },
  {
   "cell_type": "code",
   "execution_count": 209,
   "metadata": {},
   "outputs": [],
   "source": [
    "train = pd.read_csv(\"train.csv\")\n",
    "test = pd.read_csv(\"test.csv\")\n",
    "gender = pd.read_csv(\"gender_submission.csv\")"
   ]
  },
  {
   "cell_type": "code",
   "execution_count": 210,
   "metadata": {},
   "outputs": [],
   "source": [
    "# y_train = train['Survived']\n",
    "# train = train.drop(['Survived'],1) # justify dropping 'PassengerId','Name','Cabin','Ticket'"
   ]
  },
  {
   "cell_type": "markdown",
   "metadata": {},
   "source": [
    "\n",
    "### Check - is data balanced? No.."
   ]
  },
  {
   "cell_type": "code",
   "execution_count": 211,
   "metadata": {},
   "outputs": [
    {
     "name": "stdout",
     "output_type": "stream",
     "text": [
      "number of survivors 0.3838383838383838\n",
      "number of others 0.6161616161616161\n"
     ]
    },
    {
     "data": {
      "text/plain": [
       "<matplotlib.axes._subplots.AxesSubplot at 0x18c87a90>"
      ]
     },
     "execution_count": 211,
     "metadata": {},
     "output_type": "execute_result"
    },
    {
     "data": {
      "image/png": "[encoded data removed]",
      "text/plain": [
       "<matplotlib.figure.Figure at 0x18c87470>"
      ]
     },
     "metadata": {},
     "output_type": "display_data"
    }
   ],
   "source": [
    "print(\"number of survivors\" , np.sum(train['Survived'] == 1) * 1.0 / train['Survived'].size)\n",
    "print(\"number of others\" , np.sum(train['Survived'] == 0) * 1.0 / train['Survived'].size)\n",
    "\n",
    "train['Survived'].hist()"
   ]
  },
  {
   "cell_type": "code",
   "execution_count": 212,
   "metadata": {
    "scrolled": true
   },
   "outputs": [
    {
     "data": {
      "text/plain": [
       "PassengerId      int64\n",
       "Survived         int64\n",
       "Pclass           int64\n",
       "Name            object\n",
       "Sex             object\n",
       "Age            float64\n",
       "SibSp            int64\n",
       "Parch            int64\n",
       "Ticket          object\n",
       "Fare           float64\n",
       "Cabin           object\n",
       "Embarked        object\n",
       "dtype: object"
      ]
     },
     "execution_count": 212,
     "metadata": {},
     "output_type": "execute_result"
    }
   ],
   "source": [
    "train.dtypes"
   ]
  },
  {
   "cell_type": "code",
   "execution_count": 213,
   "metadata": {},
   "outputs": [
    {
     "name": "stdout",
     "output_type": "stream",
     "text": [
      "there are:\n",
      "        177 null values of Age, \n",
      "        687 null values of cabin and\n",
      "        2 null values of embarked\n",
      "            \n"
     ]
    },
    {
     "data": {
      "image/png": "[encoded data removed]",
      "text/plain": [
       "<matplotlib.figure.Figure at 0x174d30b8>"
      ]
     },
     "metadata": {},
     "output_type": "display_data"
    }
   ],
   "source": [
    "train.isnull().sum().plot('bar', logy = True)\n",
    "print('''there are:\n",
    "        %d null values of Age, \n",
    "        %d null values of cabin and\n",
    "        %d null values of embarked\n",
    "            ''' %(train['Age'].isnull().sum(),train['Cabin'].isnull().sum(),train['Embarked'].isnull().sum()))\n",
    "\n",
    "### => Cabin has too many null values"
   ]
  },
  {
   "cell_type": "code",
   "execution_count": 214,
   "metadata": {},
   "outputs": [
    {
     "data": {
      "text/html": [
       "<div>\n",
       "<style scoped>\n",
       "    .dataframe tbody tr th:only-of-type {\n",
       "        vertical-align: middle;\n",
       "    }\n",
       "\n",
       "    .dataframe tbody tr th {\n",
       "        vertical-align: top;\n",
       "    }\n",
       "\n",
       "    .dataframe thead th {\n",
       "        text-align: right;\n",
       "    }\n",
       "</style>\n",
       "<table border=\"1\" class=\"dataframe\">\n",
       "  <thead>\n",
       "    <tr style=\"text-align: right;\">\n",
       "      <th></th>\n",
       "      <th>PassengerId</th>\n",
       "      <th>Survived</th>\n",
       "      <th>Pclass</th>\n",
       "      <th>Age</th>\n",
       "      <th>SibSp</th>\n",
       "      <th>Parch</th>\n",
       "      <th>Fare</th>\n",
       "    </tr>\n",
       "  </thead>\n",
       "  <tbody>\n",
       "    <tr>\n",
       "      <th>count</th>\n",
       "      <td>891.000000</td>\n",
       "      <td>891.000000</td>\n",
       "      <td>891.000000</td>\n",
       "      <td>714.000000</td>\n",
       "      <td>891.000000</td>\n",
       "      <td>891.000000</td>\n",
       "      <td>891.000000</td>\n",
       "    </tr>\n",
       "    <tr>\n",
       "      <th>mean</th>\n",
       "      <td>446.000000</td>\n",
       "      <td>0.383838</td>\n",
       "      <td>2.308642</td>\n",
       "      <td>29.699118</td>\n",
       "      <td>0.523008</td>\n",
       "      <td>0.381594</td>\n",
       "      <td>32.204208</td>\n",
       "    </tr>\n",
       "    <tr>\n",
       "      <th>std</th>\n",
       "      <td>257.353842</td>\n",
       "      <td>0.486592</td>\n",
       "      <td>0.836071</td>\n",
       "      <td>14.526497</td>\n",
       "      <td>1.102743</td>\n",
       "      <td>0.806057</td>\n",
       "      <td>49.693429</td>\n",
       "    </tr>\n",
       "    <tr>\n",
       "      <th>min</th>\n",
       "      <td>1.000000</td>\n",
       "      <td>0.000000</td>\n",
       "      <td>1.000000</td>\n",
       "      <td>0.420000</td>\n",
       "      <td>0.000000</td>\n",
       "      <td>0.000000</td>\n",
       "      <td>0.000000</td>\n",
       "    </tr>\n",
       "    <tr>\n",
       "      <th>25%</th>\n",
       "      <td>223.500000</td>\n",
       "      <td>0.000000</td>\n",
       "      <td>2.000000</td>\n",
       "      <td>20.125000</td>\n",
       "      <td>0.000000</td>\n",
       "      <td>0.000000</td>\n",
       "      <td>7.910400</td>\n",
       "    </tr>\n",
       "    <tr>\n",
       "      <th>50%</th>\n",
       "      <td>446.000000</td>\n",
       "      <td>0.000000</td>\n",
       "      <td>3.000000</td>\n",
       "      <td>28.000000</td>\n",
       "      <td>0.000000</td>\n",
       "      <td>0.000000</td>\n",
       "      <td>14.454200</td>\n",
       "    </tr>\n",
       "    <tr>\n",
       "      <th>75%</th>\n",
       "      <td>668.500000</td>\n",
       "      <td>1.000000</td>\n",
       "      <td>3.000000</td>\n",
       "      <td>38.000000</td>\n",
       "      <td>1.000000</td>\n",
       "      <td>0.000000</td>\n",
       "      <td>31.000000</td>\n",
       "    </tr>\n",
       "    <tr>\n",
       "      <th>max</th>\n",
       "      <td>891.000000</td>\n",
       "      <td>1.000000</td>\n",
       "      <td>3.000000</td>\n",
       "      <td>80.000000</td>\n",
       "      <td>8.000000</td>\n",
       "      <td>6.000000</td>\n",
       "      <td>512.329200</td>\n",
       "    </tr>\n",
       "  </tbody>\n",
       "</table>\n",
       "</div>"
      ],
      "text/plain": [
       "       PassengerId    Survived      Pclass         Age       SibSp  \\\n",
       "count   891.000000  891.000000  891.000000  714.000000  891.000000   \n",
       "mean    446.000000    0.383838    2.308642   29.699118    0.523008   \n",
       "std     257.353842    0.486592    0.836071   14.526497    1.102743   \n",
       "min       1.000000    0.000000    1.000000    0.420000    0.000000   \n",
       "25%     223.500000    0.000000    2.000000   20.125000    0.000000   \n",
       "50%     446.000000    0.000000    3.000000   28.000000    0.000000   \n",
       "75%     668.500000    1.000000    3.000000   38.000000    1.000000   \n",
       "max     891.000000    1.000000    3.000000   80.000000    8.000000   \n",
       "\n",
       "            Parch        Fare  \n",
       "count  891.000000  891.000000  \n",
       "mean     0.381594   32.204208  \n",
       "std      0.806057   49.693429  \n",
       "min      0.000000    0.000000  \n",
       "25%      0.000000    7.910400  \n",
       "50%      0.000000   14.454200  \n",
       "75%      0.000000   31.000000  \n",
       "max      6.000000  512.329200  "
      ]
     },
     "execution_count": 214,
     "metadata": {},
     "output_type": "execute_result"
    }
   ],
   "source": [
    "train.describe()"
   ]
  },
  {
   "cell_type": "code",
   "execution_count": 215,
   "metadata": {},
   "outputs": [
    {
     "data": {
      "text/plain": [
       "681"
      ]
     },
     "execution_count": 215,
     "metadata": {},
     "output_type": "execute_result"
    }
   ],
   "source": [
    "len(train['Ticket'].unique())"
   ]
  },
  {
   "cell_type": "markdown",
   "metadata": {},
   "source": [
    "'PassengerId','Name','Cabin','Ticket' are not enough informative"
   ]
  },
  {
   "cell_type": "code",
   "execution_count": 216,
   "metadata": {},
   "outputs": [],
   "source": [
    "train = train.drop(['PassengerId','Name','Cabin','Ticket'],1)"
   ]
  },
  {
   "cell_type": "code",
   "execution_count": 217,
   "metadata": {},
   "outputs": [
    {
     "name": "stdout",
     "output_type": "stream",
     "text": [
      "Index(['Survived', 'Pclass', 'Sex', 'Age', 'SibSp', 'Parch', 'Fare',\n",
      "       'Embarked'],\n",
      "      dtype='object')\n",
      "Survived      int64\n",
      "Pclass        int64\n",
      "Sex          object\n",
      "Age         float64\n",
      "SibSp         int64\n",
      "Parch         int64\n",
      "Fare        float64\n",
      "Embarked     object\n",
      "dtype: object\n"
     ]
    }
   ],
   "source": [
    "print(train.columns) \n",
    "print(train.dtypes)"
   ]
  },
  {
   "cell_type": "markdown",
   "metadata": {},
   "source": [
    "## converting Sex to binary variable"
   ]
  },
  {
   "cell_type": "code",
   "execution_count": 218,
   "metadata": {},
   "outputs": [
    {
     "data": {
      "text/plain": [
       "array(['male', 'female'], dtype=object)"
      ]
     },
     "execution_count": 218,
     "metadata": {},
     "output_type": "execute_result"
    }
   ],
   "source": [
    "train['Sex'].unique()  #only male/female"
   ]
  },
  {
   "cell_type": "code",
   "execution_count": 219,
   "metadata": {},
   "outputs": [],
   "source": [
    "train['Sex'] = train['Sex'].map(lambda val: 1 if val =='male'  else 0 )"
   ]
  },
  {
   "cell_type": "markdown",
   "metadata": {},
   "source": [
    "### checking embarked"
   ]
  },
  {
   "cell_type": "code",
   "execution_count": 220,
   "metadata": {},
   "outputs": [
    {
     "data": {
      "text/plain": [
       "(array([ 61, 829], dtype=int64),)"
      ]
     },
     "execution_count": 220,
     "metadata": {},
     "output_type": "execute_result"
    }
   ],
   "source": [
    "np.where(train['Embarked'].isnull())"
   ]
  },
  {
   "cell_type": "code",
   "execution_count": 221,
   "metadata": {},
   "outputs": [
    {
     "name": "stdout",
     "output_type": "stream",
     "text": [
      "     Survived  Pclass  Sex   Age  SibSp  Parch  Fare Embarked\n",
      "61          1       1    0  38.0      0      0  80.0      NaN\n",
      "829         1       1    0  62.0      0      0  80.0      NaN\n"
     ]
    },
    {
     "data": {
      "text/html": [
       "<div>\n",
       "<style scoped>\n",
       "    .dataframe tbody tr th:only-of-type {\n",
       "        vertical-align: middle;\n",
       "    }\n",
       "\n",
       "    .dataframe tbody tr th {\n",
       "        vertical-align: top;\n",
       "    }\n",
       "\n",
       "    .dataframe thead th {\n",
       "        text-align: right;\n",
       "    }\n",
       "</style>\n",
       "<table border=\"1\" class=\"dataframe\">\n",
       "  <thead>\n",
       "    <tr style=\"text-align: right;\">\n",
       "      <th></th>\n",
       "      <th>Survived</th>\n",
       "      <th>Pclass</th>\n",
       "      <th>Sex</th>\n",
       "      <th>Age</th>\n",
       "      <th>SibSp</th>\n",
       "      <th>Parch</th>\n",
       "      <th>Fare</th>\n",
       "      <th>Embarked</th>\n",
       "    </tr>\n",
       "  </thead>\n",
       "  <tbody>\n",
       "    <tr>\n",
       "      <th>61</th>\n",
       "      <td>1</td>\n",
       "      <td>1</td>\n",
       "      <td>0</td>\n",
       "      <td>38.0</td>\n",
       "      <td>0</td>\n",
       "      <td>0</td>\n",
       "      <td>80.0</td>\n",
       "      <td>NaN</td>\n",
       "    </tr>\n",
       "    <tr>\n",
       "      <th>829</th>\n",
       "      <td>1</td>\n",
       "      <td>1</td>\n",
       "      <td>0</td>\n",
       "      <td>62.0</td>\n",
       "      <td>0</td>\n",
       "      <td>0</td>\n",
       "      <td>80.0</td>\n",
       "      <td>NaN</td>\n",
       "    </tr>\n",
       "  </tbody>\n",
       "</table>\n",
       "</div>"
      ],
      "text/plain": [
       "     Survived  Pclass  Sex   Age  SibSp  Parch  Fare Embarked\n",
       "61          1       1    0  38.0      0      0  80.0      NaN\n",
       "829         1       1    0  62.0      0      0  80.0      NaN"
      ]
     },
     "execution_count": 221,
     "metadata": {},
     "output_type": "execute_result"
    }
   ],
   "source": [
    "print(train.iloc[[61,829]])\n",
    "\n",
    "train.iloc[[61,829]]"
   ]
  },
  {
   "cell_type": "code",
   "execution_count": 222,
   "metadata": {},
   "outputs": [],
   "source": [
    "train = train[~train['Embarked'].isnull().values]\n",
    "# train = train[~train['Embarked'].isnull()]"
   ]
  },
  {
   "cell_type": "code",
   "execution_count": 223,
   "metadata": {},
   "outputs": [
    {
     "data": {
      "text/plain": [
       "S    644\n",
       "C    168\n",
       "Q     77\n",
       "Name: Embarked, dtype: int64"
      ]
     },
     "execution_count": 223,
     "metadata": {},
     "output_type": "execute_result"
    }
   ],
   "source": [
    "train['Embarked'].value_counts()"
   ]
  },
  {
   "cell_type": "code",
   "execution_count": 224,
   "metadata": {},
   "outputs": [
    {
     "data": {
      "text/plain": [
       "array(['S', 'C', 'Q'], dtype=object)"
      ]
     },
     "execution_count": 224,
     "metadata": {},
     "output_type": "execute_result"
    }
   ],
   "source": [
    "embarked = train['Embarked'].unique()\n",
    "embarked"
   ]
  },
  {
   "cell_type": "code",
   "execution_count": 225,
   "metadata": {
    "scrolled": true
   },
   "outputs": [
    {
     "data": {
      "text/plain": [
       "([<matplotlib.axis.XTick at 0x18e0c748>,\n",
       "  <matplotlib.axis.XTick at 0x18e426a0>,\n",
       "  <matplotlib.axis.XTick at 0x18df3588>],\n",
       " <a list of 3 Text xticklabel objects>)"
      ]
     },
     "execution_count": 225,
     "metadata": {},
     "output_type": "execute_result"
    },
    {
     "data": {
      "image/png": "[encoded data removed]",
      "text/plain": [
       "<matplotlib.figure.Figure at 0x18e50e10>"
      ]
     },
     "metadata": {},
     "output_type": "display_data"
    }
   ],
   "source": [
    "plt.bar(range(len(embarked)),train['Embarked'].value_counts())\n",
    "plt.xticks(range(len(embarked)), embarked)"
   ]
  },
  {
   "cell_type": "code",
   "execution_count": 226,
   "metadata": {
    "scrolled": true
   },
   "outputs": [
    {
     "data": {
      "text/html": [
       "<div>\n",
       "<style scoped>\n",
       "    .dataframe tbody tr th:only-of-type {\n",
       "        vertical-align: middle;\n",
       "    }\n",
       "\n",
       "    .dataframe tbody tr th {\n",
       "        vertical-align: top;\n",
       "    }\n",
       "\n",
       "    .dataframe thead th {\n",
       "        text-align: right;\n",
       "    }\n",
       "</style>\n",
       "<table border=\"1\" class=\"dataframe\">\n",
       "  <thead>\n",
       "    <tr style=\"text-align: right;\">\n",
       "      <th>Embarked</th>\n",
       "      <th>C</th>\n",
       "      <th>Q</th>\n",
       "      <th>S</th>\n",
       "    </tr>\n",
       "    <tr>\n",
       "      <th>Survived</th>\n",
       "      <th></th>\n",
       "      <th></th>\n",
       "      <th></th>\n",
       "    </tr>\n",
       "  </thead>\n",
       "  <tbody>\n",
       "    <tr>\n",
       "      <th>0</th>\n",
       "      <td>75</td>\n",
       "      <td>47</td>\n",
       "      <td>427</td>\n",
       "    </tr>\n",
       "    <tr>\n",
       "      <th>1</th>\n",
       "      <td>93</td>\n",
       "      <td>30</td>\n",
       "      <td>217</td>\n",
       "    </tr>\n",
       "  </tbody>\n",
       "</table>\n",
       "</div>"
      ],
      "text/plain": [
       "Embarked   C   Q    S\n",
       "Survived             \n",
       "0         75  47  427\n",
       "1         93  30  217"
      ]
     },
     "execution_count": 226,
     "metadata": {},
     "output_type": "execute_result"
    }
   ],
   "source": [
    "pd.crosstab(train['Survived'],train['Embarked'])  #most of the people didn't survived! 'C' and 'S' are more informative"
   ]
  },
  {
   "cell_type": "markdown",
   "metadata": {},
   "source": [
    "### converting 'Embarked' to dummy variables"
   ]
  },
  {
   "cell_type": "code",
   "execution_count": 227,
   "metadata": {},
   "outputs": [],
   "source": [
    "# def att_to_dummy(df,att,unique_vals,new_vals):\n",
    "#     for i in range(len(unique_vals)):\n",
    "#         df[new_vals[i]] = (df[att] == unique_vals[i]) + 0\n",
    "#     df = df.drop(att,axis = 1)\n",
    "#     return df\n",
    "\n",
    "# new_vals1 = ['Embarked_S','Embarked_C','Embarked_Q']\n",
    "# train = att_to_dummy(train,'Embarked',embarked,new_vals1)"
   ]
  },
  {
   "cell_type": "code",
   "execution_count": 228,
   "metadata": {},
   "outputs": [],
   "source": [
    "train = pd.concat([train, pd.get_dummies(train['Embarked'], prefix='embarked')], axis=1)\n",
    "train.drop('Embarked', axis=1, inplace=True)"
   ]
  },
  {
   "cell_type": "markdown",
   "metadata": {},
   "source": [
    "### dealing with Pclass"
   ]
  },
  {
   "cell_type": "code",
   "execution_count": 229,
   "metadata": {},
   "outputs": [
    {
     "data": {
      "text/plain": [
       "([<matplotlib.axis.XTick at 0x18db6240>,\n",
       "  <matplotlib.axis.XTick at 0x18ee7390>,\n",
       "  <matplotlib.axis.XTick at 0x18f786d8>],\n",
       " <a list of 3 Text xticklabel objects>)"
      ]
     },
     "execution_count": 229,
     "metadata": {},
     "output_type": "execute_result"
    },
    {
     "data": {
      "image/png": "[encoded data removed]",
      "text/plain": [
       "<matplotlib.figure.Figure at 0x18f67dd8>"
      ]
     },
     "metadata": {},
     "output_type": "display_data"
    }
   ],
   "source": [
    "pclass = train['Pclass'].unique()\n",
    "plt.bar(range(len(pclass)),train['Pclass'].value_counts())\n",
    "plt.xticks(range(len(pclass)), pclass)"
   ]
  },
  {
   "cell_type": "code",
   "execution_count": 230,
   "metadata": {},
   "outputs": [],
   "source": [
    "# new_vals2 = ['Pclass_3','Pclass_1','Pclass_2']\n",
    "# train = att_to_dummy(train,'Pclass',pcalss,new_vals2)"
   ]
  },
  {
   "cell_type": "code",
   "execution_count": 231,
   "metadata": {},
   "outputs": [],
   "source": [
    "train = pd.concat([train, pd.get_dummies(train['Pclass'], prefix='class')], axis=1)\n",
    "train.drop('Pclass', axis=1, inplace=True)"
   ]
  },
  {
   "cell_type": "code",
   "execution_count": 232,
   "metadata": {},
   "outputs": [
    {
     "data": {
      "text/html": [
       "<div>\n",
       "<style scoped>\n",
       "    .dataframe tbody tr th:only-of-type {\n",
       "        vertical-align: middle;\n",
       "    }\n",
       "\n",
       "    .dataframe tbody tr th {\n",
       "        vertical-align: top;\n",
       "    }\n",
       "\n",
       "    .dataframe thead th {\n",
       "        text-align: right;\n",
       "    }\n",
       "</style>\n",
       "<table border=\"1\" class=\"dataframe\">\n",
       "  <thead>\n",
       "    <tr style=\"text-align: right;\">\n",
       "      <th></th>\n",
       "      <th>Survived</th>\n",
       "      <th>Sex</th>\n",
       "      <th>Age</th>\n",
       "      <th>SibSp</th>\n",
       "      <th>Parch</th>\n",
       "      <th>Fare</th>\n",
       "      <th>embarked_C</th>\n",
       "      <th>embarked_Q</th>\n",
       "      <th>embarked_S</th>\n",
       "      <th>class_1</th>\n",
       "      <th>class_2</th>\n",
       "      <th>class_3</th>\n",
       "    </tr>\n",
       "  </thead>\n",
       "  <tbody>\n",
       "    <tr>\n",
       "      <th>0</th>\n",
       "      <td>0</td>\n",
       "      <td>1</td>\n",
       "      <td>22.0</td>\n",
       "      <td>1</td>\n",
       "      <td>0</td>\n",
       "      <td>7.2500</td>\n",
       "      <td>0</td>\n",
       "      <td>0</td>\n",
       "      <td>1</td>\n",
       "      <td>0</td>\n",
       "      <td>0</td>\n",
       "      <td>1</td>\n",
       "    </tr>\n",
       "    <tr>\n",
       "      <th>1</th>\n",
       "      <td>1</td>\n",
       "      <td>0</td>\n",
       "      <td>38.0</td>\n",
       "      <td>1</td>\n",
       "      <td>0</td>\n",
       "      <td>71.2833</td>\n",
       "      <td>1</td>\n",
       "      <td>0</td>\n",
       "      <td>0</td>\n",
       "      <td>1</td>\n",
       "      <td>0</td>\n",
       "      <td>0</td>\n",
       "    </tr>\n",
       "    <tr>\n",
       "      <th>2</th>\n",
       "      <td>1</td>\n",
       "      <td>0</td>\n",
       "      <td>26.0</td>\n",
       "      <td>0</td>\n",
       "      <td>0</td>\n",
       "      <td>7.9250</td>\n",
       "      <td>0</td>\n",
       "      <td>0</td>\n",
       "      <td>1</td>\n",
       "      <td>0</td>\n",
       "      <td>0</td>\n",
       "      <td>1</td>\n",
       "    </tr>\n",
       "    <tr>\n",
       "      <th>3</th>\n",
       "      <td>1</td>\n",
       "      <td>0</td>\n",
       "      <td>35.0</td>\n",
       "      <td>1</td>\n",
       "      <td>0</td>\n",
       "      <td>53.1000</td>\n",
       "      <td>0</td>\n",
       "      <td>0</td>\n",
       "      <td>1</td>\n",
       "      <td>1</td>\n",
       "      <td>0</td>\n",
       "      <td>0</td>\n",
       "    </tr>\n",
       "    <tr>\n",
       "      <th>4</th>\n",
       "      <td>0</td>\n",
       "      <td>1</td>\n",
       "      <td>35.0</td>\n",
       "      <td>0</td>\n",
       "      <td>0</td>\n",
       "      <td>8.0500</td>\n",
       "      <td>0</td>\n",
       "      <td>0</td>\n",
       "      <td>1</td>\n",
       "      <td>0</td>\n",
       "      <td>0</td>\n",
       "      <td>1</td>\n",
       "    </tr>\n",
       "  </tbody>\n",
       "</table>\n",
       "</div>"
      ],
      "text/plain": [
       "   Survived  Sex   Age  SibSp  Parch     Fare  embarked_C  embarked_Q  \\\n",
       "0         0    1  22.0      1      0   7.2500           0           0   \n",
       "1         1    0  38.0      1      0  71.2833           1           0   \n",
       "2         1    0  26.0      0      0   7.9250           0           0   \n",
       "3         1    0  35.0      1      0  53.1000           0           0   \n",
       "4         0    1  35.0      0      0   8.0500           0           0   \n",
       "\n",
       "   embarked_S  class_1  class_2  class_3  \n",
       "0           1        0        0        1  \n",
       "1           0        1        0        0  \n",
       "2           1        0        0        1  \n",
       "3           1        1        0        0  \n",
       "4           1        0        0        1  "
      ]
     },
     "execution_count": 232,
     "metadata": {},
     "output_type": "execute_result"
    }
   ],
   "source": [
    "train.head()"
   ]
  },
  {
   "cell_type": "markdown",
   "metadata": {},
   "source": [
    "## Parch"
   ]
  },
  {
   "cell_type": "code",
   "execution_count": 233,
   "metadata": {
    "scrolled": false
   },
   "outputs": [
    {
     "data": {
      "text/html": [
       "<div>\n",
       "<style scoped>\n",
       "    .dataframe tbody tr th:only-of-type {\n",
       "        vertical-align: middle;\n",
       "    }\n",
       "\n",
       "    .dataframe tbody tr th {\n",
       "        vertical-align: top;\n",
       "    }\n",
       "\n",
       "    .dataframe thead th {\n",
       "        text-align: right;\n",
       "    }\n",
       "</style>\n",
       "<table border=\"1\" class=\"dataframe\">\n",
       "  <thead>\n",
       "    <tr style=\"text-align: right;\">\n",
       "      <th>Parch</th>\n",
       "      <th>0</th>\n",
       "      <th>1</th>\n",
       "      <th>2</th>\n",
       "      <th>3</th>\n",
       "      <th>4</th>\n",
       "      <th>5</th>\n",
       "      <th>6</th>\n",
       "      <th>All</th>\n",
       "    </tr>\n",
       "    <tr>\n",
       "      <th>Survived</th>\n",
       "      <th></th>\n",
       "      <th></th>\n",
       "      <th></th>\n",
       "      <th></th>\n",
       "      <th></th>\n",
       "      <th></th>\n",
       "      <th></th>\n",
       "      <th></th>\n",
       "    </tr>\n",
       "  </thead>\n",
       "  <tbody>\n",
       "    <tr>\n",
       "      <th>0</th>\n",
       "      <td>445</td>\n",
       "      <td>53</td>\n",
       "      <td>40</td>\n",
       "      <td>2</td>\n",
       "      <td>4</td>\n",
       "      <td>4</td>\n",
       "      <td>1</td>\n",
       "      <td>549</td>\n",
       "    </tr>\n",
       "    <tr>\n",
       "      <th>1</th>\n",
       "      <td>231</td>\n",
       "      <td>65</td>\n",
       "      <td>40</td>\n",
       "      <td>3</td>\n",
       "      <td>0</td>\n",
       "      <td>1</td>\n",
       "      <td>0</td>\n",
       "      <td>340</td>\n",
       "    </tr>\n",
       "    <tr>\n",
       "      <th>All</th>\n",
       "      <td>676</td>\n",
       "      <td>118</td>\n",
       "      <td>80</td>\n",
       "      <td>5</td>\n",
       "      <td>4</td>\n",
       "      <td>5</td>\n",
       "      <td>1</td>\n",
       "      <td>889</td>\n",
       "    </tr>\n",
       "  </tbody>\n",
       "</table>\n",
       "</div>"
      ],
      "text/plain": [
       "Parch       0    1   2  3  4  5  6  All\n",
       "Survived                               \n",
       "0         445   53  40  2  4  4  1  549\n",
       "1         231   65  40  3  0  1  0  340\n",
       "All       676  118  80  5  4  5  1  889"
      ]
     },
     "execution_count": 233,
     "metadata": {},
     "output_type": "execute_result"
    }
   ],
   "source": [
    "pd.crosstab(train['Survived'],train['Parch'], margins=True)"
   ]
  },
  {
   "cell_type": "code",
   "execution_count": 234,
   "metadata": {},
   "outputs": [
    {
     "data": {
      "text/html": [
       "<div>\n",
       "<style scoped>\n",
       "    .dataframe tbody tr th:only-of-type {\n",
       "        vertical-align: middle;\n",
       "    }\n",
       "\n",
       "    .dataframe tbody tr th {\n",
       "        vertical-align: top;\n",
       "    }\n",
       "\n",
       "    .dataframe thead th {\n",
       "        text-align: right;\n",
       "    }\n",
       "</style>\n",
       "<table border=\"1\" class=\"dataframe\">\n",
       "  <thead>\n",
       "    <tr style=\"text-align: right;\">\n",
       "      <th>Parch</th>\n",
       "      <th>0</th>\n",
       "      <th>1</th>\n",
       "      <th>2</th>\n",
       "      <th>3</th>\n",
       "      <th>4</th>\n",
       "      <th>5</th>\n",
       "      <th>6</th>\n",
       "    </tr>\n",
       "    <tr>\n",
       "      <th>Survived</th>\n",
       "      <th></th>\n",
       "      <th></th>\n",
       "      <th></th>\n",
       "      <th></th>\n",
       "      <th></th>\n",
       "      <th></th>\n",
       "      <th></th>\n",
       "    </tr>\n",
       "  </thead>\n",
       "  <tbody>\n",
       "    <tr>\n",
       "      <th>0</th>\n",
       "      <td>0.658284</td>\n",
       "      <td>0.449153</td>\n",
       "      <td>0.5</td>\n",
       "      <td>0.4</td>\n",
       "      <td>1.0</td>\n",
       "      <td>0.8</td>\n",
       "      <td>1.0</td>\n",
       "    </tr>\n",
       "    <tr>\n",
       "      <th>1</th>\n",
       "      <td>0.341716</td>\n",
       "      <td>0.550847</td>\n",
       "      <td>0.5</td>\n",
       "      <td>0.6</td>\n",
       "      <td>0.0</td>\n",
       "      <td>0.2</td>\n",
       "      <td>0.0</td>\n",
       "    </tr>\n",
       "  </tbody>\n",
       "</table>\n",
       "</div>"
      ],
      "text/plain": [
       "Parch            0         1    2    3    4    5    6\n",
       "Survived                                             \n",
       "0         0.658284  0.449153  0.5  0.4  1.0  0.8  1.0\n",
       "1         0.341716  0.550847  0.5  0.6  0.0  0.2  0.0"
      ]
     },
     "execution_count": 234,
     "metadata": {},
     "output_type": "execute_result"
    }
   ],
   "source": [
    "pd.crosstab(train['Survived'],train['Parch'], normalize='columns')"
   ]
  },
  {
   "cell_type": "code",
   "execution_count": 235,
   "metadata": {},
   "outputs": [
    {
     "name": "stderr",
     "output_type": "stream",
     "text": [
      "C:\\ProgramData\\Anaconda3\\lib\\site-packages\\numpy\\core\\fromnumeric.py:52: FutureWarning: reshape is deprecated and will raise in a subsequent release. Please use .values.reshape(...) instead\n",
      "  return getattr(obj, method)(*args, **kwds)\n"
     ]
    },
    {
     "data": {
      "text/plain": [
       "([array([231.,  65.,  40.,   3.,   0.,   1.]),\n",
       "  array([676., 118.,  80.,   5.,   4.,   6.])],\n",
       " array([0, 1, 2, 3, 4, 5, 6]),\n",
       " <a list of 2 Lists of Patches objects>)"
      ]
     },
     "execution_count": 235,
     "metadata": {},
     "output_type": "execute_result"
    },
    {
     "data": {
      "image/png": "[encoded data removed]",
      "text/plain": [
       "<matplotlib.figure.Figure at 0x18dd4278>"
      ]
     },
     "metadata": {},
     "output_type": "display_data"
    }
   ],
   "source": [
    "is_survived = train['Survived'] == 1\n",
    "plt.hist([train[is_survived]['Parch'], train[~is_survived]['Parch']], stacked=True, bins=range(7))"
   ]
  },
  {
   "cell_type": "code",
   "execution_count": 236,
   "metadata": {
    "scrolled": true
   },
   "outputs": [
    {
     "data": {
      "text/plain": [
       "(array([676., 118.,  80.,   5.,   4.,   6.]),\n",
       " array([0, 1, 2, 3, 4, 5, 6]),\n",
       " <a list of 6 Patch objects>)"
      ]
     },
     "execution_count": 236,
     "metadata": {},
     "output_type": "execute_result"
    },
    {
     "data": {
      "image/png": "[encoded data removed]",
      "text/plain": [
       "<matplotlib.figure.Figure at 0x18fb2828>"
      ]
     },
     "metadata": {},
     "output_type": "display_data"
    }
   ],
   "source": [
    "plt.hist(train['Parch'],bins=range(7))"
   ]
  },
  {
   "cell_type": "markdown",
   "metadata": {},
   "source": [
    "# we stopped here 2018-03-28"
   ]
  },
  {
   "cell_type": "code",
   "execution_count": 237,
   "metadata": {},
   "outputs": [],
   "source": [
    "def information_gain(df,att,y,partition):\n",
    "    Hy = calc_IG(df,y)\n",
    "    tmp = df[df[att] <= partition[0]].filter([att,y])\n",
    "    Px = 1. * len(tmp[y]) / len(df[y])\n",
    "    H_y_x = calc_IG(tmp,y,Px)\n",
    "    prev_att = partition[0]\n",
    "    for curr_att in partition[1:-1]:\n",
    "        tmp = df[(df[att] <= curr_att) & (df[att] > prev_att)].filter([att,y])\n",
    "        Px = 1. * len(tmp[y]) / len(df[y])\n",
    "        H_y_x += calc_IG(tmp,y,Px)\n",
    "        prev_att = curr_att\n",
    "    tmp = df[df[att] >= partition[-1]].filter([att,y])\n",
    "    Px = 1. * len(tmp[y]) / len(df[y])\n",
    "    H_y_x += calc_IG(tmp,y,Px)\n",
    "    return Hy - H_y_x  "
   ]
  },
  {
   "cell_type": "code",
   "execution_count": 238,
   "metadata": {},
   "outputs": [],
   "source": [
    "def calc_IG(df,y,Px = None):\n",
    "    N = len(df[y])\n",
    "    Py = (df[y] == 1).sum() * 1.0 / N\n",
    "    if Py == 1 or Py == 0:\n",
    "        return 0\n",
    "    if Px:\n",
    "        return - Px * Py * np.log2(Py) - Px *(1-Py) * np.log2((1-Py))\n",
    "    return - Py * np.log2(Py) - (1-Py) * np.log2((1-Py))"
   ]
  },
  {
   "cell_type": "code",
   "execution_count": 239,
   "metadata": {},
   "outputs": [
    {
     "name": "stdout",
     "output_type": "stream",
     "text": [
      "0.01577756071262515\n",
      "0.01709312877099889\n",
      "0.019430573092410808\n",
      "0.02281066557942013\n",
      "0.023699103606419802\n",
      "0.024025868573183895\n"
     ]
    },
    {
     "data": {
      "text/plain": [
       "[<matplotlib.lines.Line2D at 0x1a0a8940>]"
      ]
     },
     "execution_count": 239,
     "metadata": {},
     "output_type": "execute_result"
    },
    {
     "data": {
      "image/png": "[encoded data removed]",
      "text/plain": [
       "<matplotlib.figure.Figure at 0x1a042668>"
      ]
     },
     "metadata": {},
     "output_type": "display_data"
    }
   ],
   "source": [
    "partitions = [[0,1],[0,1,2],[0,1,2,3],[0,1,2,3,4],[0,1,2,3,4,5],[0,1,2,3,4,5,6]]\n",
    "res =[]\n",
    "for i,partition in enumerate(partitions):\n",
    "    res.append(information_gain(train,'Parch','Survived',partition))\n",
    "    print(res[i])\n",
    "plt.plot(range(1,len(res)+1),res) #split by option 4 - steepest slope"
   ]
  },
  {
   "cell_type": "code",
   "execution_count": 240,
   "metadata": {},
   "outputs": [],
   "source": [
    "def split_to_ranges(df,column,partition):\n",
    "    df[column+' <= '+str(partition[0])] = (df[column] <= partition[0]) + 0\n",
    "    df[str(partition[1]) +'< '+column +' < '+str(partition[-1])] = ((df[column] > partition[0]) & (df[column] < partition[-1])) + 0\n",
    "#     count = 1\n",
    "#     for part in partition[1:-1]:\n",
    "#         df[str(partition[count-1]) +'< '+column +' <= '+str(partition[count])] = ((df[column] <= partition[count]) & (df[column] > partition[count-1])) + 0\n",
    "#         count += 1\n",
    "        \n",
    "    df[column+' >= '+str(partition[-1])] = (df[column] >= partition[-1]) + 0"
   ]
  },
  {
   "cell_type": "code",
   "execution_count": null,
   "metadata": {},
   "outputs": [],
   "source": []
  },
  {
   "cell_type": "code",
   "execution_count": 241,
   "metadata": {},
   "outputs": [],
   "source": [
    "split_to_ranges(train,'Parch',[0,1,2,3,4])\n",
    "train = train.drop(['Parch'],axis=1)"
   ]
  },
  {
   "cell_type": "code",
   "execution_count": 242,
   "metadata": {},
   "outputs": [
    {
     "name": "stdout",
     "output_type": "stream",
     "text": [
      "1    676\n",
      "0    213\n",
      "Name: Parch <= 0, dtype: int64\n",
      "0    879\n",
      "1     10\n",
      "Name: Parch >= 4, dtype: int64\n",
      "0    686\n",
      "1    203\n",
      "Name: 1< Parch < 4, dtype: int64\n"
     ]
    }
   ],
   "source": [
    "print(train['Parch <= 0'].value_counts())\n",
    "print(train['Parch >= 4'].value_counts())\n",
    "print(train['1< Parch < 4'].value_counts())"
   ]
  },
  {
   "cell_type": "code",
   "execution_count": 243,
   "metadata": {},
   "outputs": [
    {
     "name": "stdout",
     "output_type": "stream",
     "text": [
      "[1 0 3 4 2 5 8]\n"
     ]
    },
    {
     "data": {
      "text/html": [
       "<div>\n",
       "<style scoped>\n",
       "    .dataframe tbody tr th:only-of-type {\n",
       "        vertical-align: middle;\n",
       "    }\n",
       "\n",
       "    .dataframe tbody tr th {\n",
       "        vertical-align: top;\n",
       "    }\n",
       "\n",
       "    .dataframe thead th {\n",
       "        text-align: right;\n",
       "    }\n",
       "</style>\n",
       "<table border=\"1\" class=\"dataframe\">\n",
       "  <thead>\n",
       "    <tr style=\"text-align: right;\">\n",
       "      <th>SibSp</th>\n",
       "      <th>0</th>\n",
       "      <th>1</th>\n",
       "      <th>2</th>\n",
       "      <th>3</th>\n",
       "      <th>4</th>\n",
       "      <th>5</th>\n",
       "      <th>8</th>\n",
       "    </tr>\n",
       "    <tr>\n",
       "      <th>Survived</th>\n",
       "      <th></th>\n",
       "      <th></th>\n",
       "      <th></th>\n",
       "      <th></th>\n",
       "      <th></th>\n",
       "      <th></th>\n",
       "      <th></th>\n",
       "    </tr>\n",
       "  </thead>\n",
       "  <tbody>\n",
       "    <tr>\n",
       "      <th>0</th>\n",
       "      <td>398</td>\n",
       "      <td>97</td>\n",
       "      <td>15</td>\n",
       "      <td>12</td>\n",
       "      <td>15</td>\n",
       "      <td>5</td>\n",
       "      <td>7</td>\n",
       "    </tr>\n",
       "    <tr>\n",
       "      <th>1</th>\n",
       "      <td>208</td>\n",
       "      <td>112</td>\n",
       "      <td>13</td>\n",
       "      <td>4</td>\n",
       "      <td>3</td>\n",
       "      <td>0</td>\n",
       "      <td>0</td>\n",
       "    </tr>\n",
       "  </tbody>\n",
       "</table>\n",
       "</div>"
      ],
      "text/plain": [
       "SibSp       0    1   2   3   4  5  8\n",
       "Survived                            \n",
       "0         398   97  15  12  15  5  7\n",
       "1         208  112  13   4   3  0  0"
      ]
     },
     "execution_count": 243,
     "metadata": {},
     "output_type": "execute_result"
    }
   ],
   "source": [
    "print(train['SibSp'].unique())\n",
    "pd.crosstab(train['Survived'],train['SibSp'])"
   ]
  },
  {
   "cell_type": "code",
   "execution_count": 244,
   "metadata": {
    "scrolled": true
   },
   "outputs": [
    {
     "data": {
      "text/plain": [
       "(array([606., 209.,  28.,  16.,  18.,   5.]),\n",
       " array([0, 1, 2, 3, 4, 5, 6]),\n",
       " <a list of 6 Patch objects>)"
      ]
     },
     "execution_count": 244,
     "metadata": {},
     "output_type": "execute_result"
    },
    {
     "data": {
      "image/png": "[encoded data removed]",
      "text/plain": [
       "<matplotlib.figure.Figure at 0x1a0b8c18>"
      ]
     },
     "metadata": {},
     "output_type": "display_data"
    }
   ],
   "source": [
    "plt.hist(train['SibSp'],bins=range(7))"
   ]
  },
  {
   "cell_type": "code",
   "execution_count": 245,
   "metadata": {},
   "outputs": [
    {
     "name": "stdout",
     "output_type": "stream",
     "text": [
      "0.009952927880859663\n",
      "0.02295553715392007\n",
      "0.029815515225601774\n",
      "0.031223120613191324\n",
      "0.03388843469419023\n",
      "0.03388843469419023\n"
     ]
    },
    {
     "data": {
      "text/plain": [
       "[<matplotlib.lines.Line2D at 0x1a1732b0>]"
      ]
     },
     "execution_count": 245,
     "metadata": {},
     "output_type": "execute_result"
    },
    {
     "data": {
      "image/png": "[encoded data removed]",
      "text/plain": [
       "<matplotlib.figure.Figure at 0x1a1321d0>"
      ]
     },
     "metadata": {},
     "output_type": "display_data"
    }
   ],
   "source": [
    "partitions = [[0,1],[0,1,2],[0,1,2,3],[0,1,2,3,4],[0,1,2,3,4,5],[0,1,2,3,4,5,8]]\n",
    "res =[]\n",
    "for i,partition in enumerate(partitions):\n",
    "    res.append(information_gain(train,'SibSp','Survived',partition))\n",
    "    print(res[i])\n",
    "plt.plot(range(1,len(res)+1),res) #split by option 3 - steepest slope"
   ]
  },
  {
   "cell_type": "code",
   "execution_count": 247,
   "metadata": {},
   "outputs": [],
   "source": [
    "split_to_ranges(train,'SibSp',[0,1,2,3])\n",
    "train =train.drop(['SibSp'],axis=1)"
   ]
  },
  {
   "cell_type": "code",
   "execution_count": 250,
   "metadata": {},
   "outputs": [
    {
     "data": {
      "text/html": [
       "<div>\n",
       "<style scoped>\n",
       "    .dataframe tbody tr th:only-of-type {\n",
       "        vertical-align: middle;\n",
       "    }\n",
       "\n",
       "    .dataframe tbody tr th {\n",
       "        vertical-align: top;\n",
       "    }\n",
       "\n",
       "    .dataframe thead th {\n",
       "        text-align: right;\n",
       "    }\n",
       "</style>\n",
       "<table border=\"1\" class=\"dataframe\">\n",
       "  <thead>\n",
       "    <tr style=\"text-align: right;\">\n",
       "      <th></th>\n",
       "      <th>Survived</th>\n",
       "      <th>Sex</th>\n",
       "      <th>Age</th>\n",
       "      <th>Fare</th>\n",
       "      <th>embarked_C</th>\n",
       "      <th>embarked_Q</th>\n",
       "      <th>embarked_S</th>\n",
       "      <th>class_1</th>\n",
       "      <th>class_2</th>\n",
       "      <th>class_3</th>\n",
       "      <th>Parch &lt;= 0</th>\n",
       "      <th>1&lt; Parch &lt; 4</th>\n",
       "      <th>Parch &gt;= 4</th>\n",
       "      <th>SibSp &lt;= 0</th>\n",
       "      <th>1&lt; SibSp &lt; 3</th>\n",
       "      <th>SibSp &gt;= 3</th>\n",
       "    </tr>\n",
       "  </thead>\n",
       "  <tbody>\n",
       "    <tr>\n",
       "      <th>0</th>\n",
       "      <td>0</td>\n",
       "      <td>1</td>\n",
       "      <td>22.0</td>\n",
       "      <td>7.2500</td>\n",
       "      <td>0</td>\n",
       "      <td>0</td>\n",
       "      <td>1</td>\n",
       "      <td>0</td>\n",
       "      <td>0</td>\n",
       "      <td>1</td>\n",
       "      <td>1</td>\n",
       "      <td>0</td>\n",
       "      <td>0</td>\n",
       "      <td>0</td>\n",
       "      <td>1</td>\n",
       "      <td>0</td>\n",
       "    </tr>\n",
       "    <tr>\n",
       "      <th>1</th>\n",
       "      <td>1</td>\n",
       "      <td>0</td>\n",
       "      <td>38.0</td>\n",
       "      <td>71.2833</td>\n",
       "      <td>1</td>\n",
       "      <td>0</td>\n",
       "      <td>0</td>\n",
       "      <td>1</td>\n",
       "      <td>0</td>\n",
       "      <td>0</td>\n",
       "      <td>1</td>\n",
       "      <td>0</td>\n",
       "      <td>0</td>\n",
       "      <td>0</td>\n",
       "      <td>1</td>\n",
       "      <td>0</td>\n",
       "    </tr>\n",
       "    <tr>\n",
       "      <th>2</th>\n",
       "      <td>1</td>\n",
       "      <td>0</td>\n",
       "      <td>26.0</td>\n",
       "      <td>7.9250</td>\n",
       "      <td>0</td>\n",
       "      <td>0</td>\n",
       "      <td>1</td>\n",
       "      <td>0</td>\n",
       "      <td>0</td>\n",
       "      <td>1</td>\n",
       "      <td>1</td>\n",
       "      <td>0</td>\n",
       "      <td>0</td>\n",
       "      <td>1</td>\n",
       "      <td>0</td>\n",
       "      <td>0</td>\n",
       "    </tr>\n",
       "    <tr>\n",
       "      <th>3</th>\n",
       "      <td>1</td>\n",
       "      <td>0</td>\n",
       "      <td>35.0</td>\n",
       "      <td>53.1000</td>\n",
       "      <td>0</td>\n",
       "      <td>0</td>\n",
       "      <td>1</td>\n",
       "      <td>1</td>\n",
       "      <td>0</td>\n",
       "      <td>0</td>\n",
       "      <td>1</td>\n",
       "      <td>0</td>\n",
       "      <td>0</td>\n",
       "      <td>0</td>\n",
       "      <td>1</td>\n",
       "      <td>0</td>\n",
       "    </tr>\n",
       "    <tr>\n",
       "      <th>4</th>\n",
       "      <td>0</td>\n",
       "      <td>1</td>\n",
       "      <td>35.0</td>\n",
       "      <td>8.0500</td>\n",
       "      <td>0</td>\n",
       "      <td>0</td>\n",
       "      <td>1</td>\n",
       "      <td>0</td>\n",
       "      <td>0</td>\n",
       "      <td>1</td>\n",
       "      <td>1</td>\n",
       "      <td>0</td>\n",
       "      <td>0</td>\n",
       "      <td>1</td>\n",
       "      <td>0</td>\n",
       "      <td>0</td>\n",
       "    </tr>\n",
       "  </tbody>\n",
       "</table>\n",
       "</div>"
      ],
      "text/plain": [
       "   Survived  Sex   Age     Fare  embarked_C  embarked_Q  embarked_S  class_1  \\\n",
       "0         0    1  22.0   7.2500           0           0           1        0   \n",
       "1         1    0  38.0  71.2833           1           0           0        1   \n",
       "2         1    0  26.0   7.9250           0           0           1        0   \n",
       "3         1    0  35.0  53.1000           0           0           1        1   \n",
       "4         0    1  35.0   8.0500           0           0           1        0   \n",
       "\n",
       "   class_2  class_3  Parch <= 0  1< Parch < 4  Parch >= 4  SibSp <= 0  \\\n",
       "0        0        1           1             0           0           0   \n",
       "1        0        0           1             0           0           0   \n",
       "2        0        1           1             0           0           1   \n",
       "3        0        0           1             0           0           0   \n",
       "4        0        1           1             0           0           1   \n",
       "\n",
       "   1< SibSp < 3  SibSp >= 3  \n",
       "0             1           0  \n",
       "1             1           0  \n",
       "2             0           0  \n",
       "3             1           0  \n",
       "4             0           0  "
      ]
     },
     "execution_count": 250,
     "metadata": {},
     "output_type": "execute_result"
    }
   ],
   "source": [
    "train.head()"
   ]
  },
  {
   "cell_type": "markdown",
   "metadata": {},
   "source": [
    "### dealing with Fare"
   ]
  },
  {
   "cell_type": "code",
   "execution_count": 249,
   "metadata": {},
   "outputs": [
    {
     "data": {
      "text/plain": [
       "0"
      ]
     },
     "execution_count": 249,
     "metadata": {},
     "output_type": "execute_result"
    }
   ],
   "source": [
    "train['Fare'].isnull().sum()"
   ]
  },
  {
   "cell_type": "code",
   "execution_count": 42,
   "metadata": {},
   "outputs": [
    {
     "data": {
      "text/plain": [
       "(array([ 732.,  104.,   31.,    2.,   11.,    6.,    0.,    0.,    0.,    3.]),\n",
       " array([   0.     ,   51.23292,  102.46584,  153.69876,  204.93168,\n",
       "         256.1646 ,  307.39752,  358.63044,  409.86336,  461.09628,\n",
       "         512.3292 ]),\n",
       " <a list of 10 Patch objects>)"
      ]
     },
     "execution_count": 42,
     "metadata": {},
     "output_type": "execute_result"
    },
    {
     "data": {
      "image/png": "[encoded data removed]",
      "text/plain": [
       "<matplotlib.figure.Figure at 0x11566940>"
      ]
     },
     "metadata": {},
     "output_type": "display_data"
    }
   ],
   "source": [
    "plt.hist(train['Fare'])"
   ]
  },
  {
   "cell_type": "code",
   "execution_count": 262,
   "metadata": {},
   "outputs": [
    {
     "data": {
      "text/plain": [
       "[<matplotlib.lines.Line2D at 0x1a43e3c8>]"
      ]
     },
     "execution_count": 262,
     "metadata": {},
     "output_type": "execute_result"
    },
    {
     "data": {
      "image/png": "[encoded data removed]",
      "text/plain": [
       "<matplotlib.figure.Figure at 0x1a401cc0>"
      ]
     },
     "metadata": {},
     "output_type": "display_data"
    }
   ],
   "source": [
    "xs = np.linspace(0, 500, 889)\n",
    "plt.plot(xs, gaussian_kde(train['Fare']).evaluate(xs))"
   ]
  },
  {
   "cell_type": "code",
   "execution_count": 271,
   "metadata": {},
   "outputs": [
    {
     "data": {
      "text/plain": [
       "[<matplotlib.lines.Line2D at 0x1a86a908>]"
      ]
     },
     "execution_count": 271,
     "metadata": {},
     "output_type": "execute_result"
    },
    {
     "data": {
      "image/png": "[encoded data removed]",
      "text/plain": [
       "<matplotlib.figure.Figure at 0x1a403278>"
      ]
     },
     "metadata": {},
     "output_type": "display_data"
    }
   ],
   "source": [
    "plt.plot(xs, gaussian_kde(train[train['Survived']==0]['Fare']).evaluate(xs), c='blue')  # not survived\n",
    "plt.plot(xs, gaussian_kde(train[train['Survived']==1]['Fare']).evaluate(xs), c='red')   # survived"
   ]
  },
  {
   "cell_type": "code",
   "execution_count": 276,
   "metadata": {},
   "outputs": [
    {
     "data": {
      "text/plain": [
       "count    549.000000\n",
       "mean      22.117887\n",
       "std       31.388207\n",
       "min        0.000000\n",
       "25%        7.854200\n",
       "50%       10.500000\n",
       "75%       26.000000\n",
       "max      263.000000\n",
       "Name: Fare, dtype: float64"
      ]
     },
     "execution_count": 276,
     "metadata": {},
     "output_type": "execute_result"
    }
   ],
   "source": [
    "train[train['Survived']==0]['Fare'].describe()"
   ]
  },
  {
   "cell_type": "code",
   "execution_count": 277,
   "metadata": {},
   "outputs": [
    {
     "data": {
      "text/plain": [
       "count    340.000000\n",
       "mean      48.209498\n",
       "std       66.748773\n",
       "min        0.000000\n",
       "25%       12.443750\n",
       "50%       26.000000\n",
       "75%       56.946900\n",
       "max      512.329200\n",
       "Name: Fare, dtype: float64"
      ]
     },
     "execution_count": 277,
     "metadata": {},
     "output_type": "execute_result"
    }
   ],
   "source": [
    "train[train['Survived']==1]['Fare'].describe()"
   ]
  },
  {
   "cell_type": "markdown",
   "metadata": {},
   "source": [
    "# Stopped here at 2018-05-17"
   ]
  },
  {
   "cell_type": "code",
   "execution_count": 43,
   "metadata": {},
   "outputs": [
    {
     "name": "stdout",
     "output_type": "stream",
     "text": [
      "32.0966808774\n",
      "14.4542\n"
     ]
    },
    {
     "data": {
      "image/png": "[encoded data removed]",
      "text/plain": [
       "<matplotlib.figure.Figure at 0x119c1710>"
      ]
     },
     "metadata": {},
     "output_type": "display_data"
    }
   ],
   "source": [
    "train.boxplot(column='Fare')\n",
    "print(np.mean(train['Fare'])  ## the mean)\n",
    "print(np.median(train[~train['Fare'].isnull()]['Fare'])  ## the median)"
   ]
  },
  {
   "cell_type": "code",
   "execution_count": 44,
   "metadata": {},
   "outputs": [
    {
     "data": {
      "text/plain": [
       "(array([  15.,    0.,    2.,  350.,  167.,  182.,   85.,   57.,   28.,    3.]),\n",
       " array([ 0.        ,  0.62409174,  1.24818347,  1.87227521,  2.49636694,\n",
       "         3.12045868,  3.74455041,  4.36864215,  4.99273388,  5.61682562,\n",
       "         6.24091735]),\n",
       " <a list of 10 Patch objects>)"
      ]
     },
     "execution_count": 44,
     "metadata": {},
     "output_type": "execute_result"
    },
    {
     "data": {
      "image/png": "[encoded data removed]",
      "text/plain": [
       "<matplotlib.figure.Figure at 0x119d9240>"
      ]
     },
     "metadata": {},
     "output_type": "display_data"
    }
   ],
   "source": [
    "plt.hist(np.log(train['Fare'] + 1))"
   ]
  },
  {
   "cell_type": "code",
   "execution_count": 45,
   "metadata": {},
   "outputs": [
    {
     "data": {
      "image/png": "[encoded data removed]",
      "text/plain": [
       "<matplotlib.figure.Figure at 0x11f074e0>"
      ]
     },
     "execution_count": 45,
     "metadata": {},
     "output_type": "execute_result"
    },
    {
     "data": {
      "image/png": "[encoded data removed]",
      "text/plain": [
       "<matplotlib.figure.Figure at 0x11f074e0>"
      ]
     },
     "metadata": {},
     "output_type": "display_data"
    }
   ],
   "source": [
    "sm.qqplot(np.log(train['Fare'] + 1),line='s') #pretty lose to normal => normalizong"
   ]
  },
  {
   "cell_type": "code",
   "execution_count": 46,
   "metadata": {
    "collapsed": true
   },
   "outputs": [],
   "source": [
    "#doing a normalization\n",
    "test.iloc[get_null_rows(test,'Fare')] = train['Fare'].mean()\n",
    "log_fare = np.log(train['Fare'] + 1)\n",
    "log_fare_mean = log_fare.mean()\n",
    "log_fare_std = log_fare.std() \n",
    "log_fare = (log_fare - log_fare_mean) / log_fare_std\n",
    "\n",
    "train['Fare'] = log_fare"
   ]
  },
  {
   "cell_type": "markdown",
   "metadata": {},
   "source": [
    "### dealing with Age"
   ]
  },
  {
   "cell_type": "code",
   "execution_count": 47,
   "metadata": {},
   "outputs": [
    {
     "data": {
      "text/plain": [
       "177"
      ]
     },
     "execution_count": 47,
     "metadata": {},
     "output_type": "execute_result"
    }
   ],
   "source": [
    "np.sum(train['Age'].isnull())"
   ]
  },
  {
   "cell_type": "code",
   "execution_count": 48,
   "metadata": {},
   "outputs": [
    {
     "name": "stdout",
     "output_type": "stream",
     "text": [
      "29.6420926966\n",
      "28.0\n"
     ]
    },
    {
     "data": {
      "image/png": "[encoded data removed]",
      "text/plain": [
       "<matplotlib.figure.Figure at 0x11f1dba8>"
      ]
     },
     "metadata": {},
     "output_type": "display_data"
    }
   ],
   "source": [
    "train.boxplot(column='Age')\n",
    "print(np.mean(train[~train['Age'].isnull()]['Age'])  ## the mean)\n",
    "print(np.median(train[~train['Age'].isnull()]['Age'])  ## the median)"
   ]
  },
  {
   "cell_type": "code",
   "execution_count": 49,
   "metadata": {},
   "outputs": [
    {
     "data": {
      "image/png": "[encoded data removed]",
      "text/plain": [
       "<matplotlib.figure.Figure at 0x12160ef0>"
      ]
     },
     "execution_count": 49,
     "metadata": {},
     "output_type": "execute_result"
    },
    {
     "data": {
      "image/png": "[encoded data removed]",
      "text/plain": [
       "<matplotlib.figure.Figure at 0x12160ef0>"
      ]
     },
     "metadata": {},
     "output_type": "display_data"
    }
   ],
   "source": [
    "sm.qqplot(train[~train['Age'].isnull()]['Age'],line='s')  # checking if normal distributed with null values"
   ]
  },
  {
   "cell_type": "markdown",
   "metadata": {
    "collapsed": true
   },
   "source": [
    "### Checking correlated variable"
   ]
  },
  {
   "cell_type": "code",
   "execution_count": 50,
   "metadata": {
    "scrolled": false
   },
   "outputs": [
    {
     "data": {
      "text/html": [
       "<div>\n",
       "<style>\n",
       "    .dataframe thead tr:only-child th {\n",
       "        text-align: right;\n",
       "    }\n",
       "\n",
       "    .dataframe thead th {\n",
       "        text-align: left;\n",
       "    }\n",
       "\n",
       "    .dataframe tbody tr th {\n",
       "        vertical-align: top;\n",
       "    }\n",
       "</style>\n",
       "<table border=\"1\" class=\"dataframe\">\n",
       "  <thead>\n",
       "    <tr style=\"text-align: right;\">\n",
       "      <th></th>\n",
       "      <th>Sex</th>\n",
       "      <th>Age</th>\n",
       "      <th>Fare</th>\n",
       "      <th>Embarked_S</th>\n",
       "      <th>Embarked_C</th>\n",
       "      <th>Embarked_Q</th>\n",
       "      <th>Pclass_3</th>\n",
       "      <th>Pclass_1</th>\n",
       "      <th>Pclass_2</th>\n",
       "      <th>Parch &lt;= 0</th>\n",
       "      <th>0&lt; Parch &lt;= 1</th>\n",
       "      <th>1&lt; Parch &lt;= 2</th>\n",
       "      <th>2&lt; Parch &lt;= 3</th>\n",
       "      <th>Parch &gt;= 4</th>\n",
       "      <th>SibSp &lt;= 0</th>\n",
       "      <th>0&lt; SibSp &lt;= 1</th>\n",
       "      <th>1&lt; SibSp &lt;= 2</th>\n",
       "      <th>SibSp &gt;= 3</th>\n",
       "    </tr>\n",
       "  </thead>\n",
       "  <tbody>\n",
       "    <tr>\n",
       "      <th>Sex</th>\n",
       "      <td>1.000000</td>\n",
       "      <td>0.099037</td>\n",
       "      <td>-0.259943</td>\n",
       "      <td>0.121405</td>\n",
       "      <td>-0.084520</td>\n",
       "      <td>-0.075217</td>\n",
       "      <td>0.134227</td>\n",
       "      <td>-0.093142</td>\n",
       "      <td>-0.066459</td>\n",
       "      <td>0.249837</td>\n",
       "      <td>-0.129117</td>\n",
       "      <td>-0.172326</td>\n",
       "      <td>-0.070759</td>\n",
       "      <td>-0.078005</td>\n",
       "      <td>0.205817</td>\n",
       "      <td>-0.181466</td>\n",
       "      <td>-0.042821</td>\n",
       "      <td>-0.051668</td>\n",
       "    </tr>\n",
       "    <tr>\n",
       "      <th>Age</th>\n",
       "      <td>0.099037</td>\n",
       "      <td>1.000000</td>\n",
       "      <td>0.111644</td>\n",
       "      <td>-0.025431</td>\n",
       "      <td>0.038268</td>\n",
       "      <td>-0.021693</td>\n",
       "      <td>-0.309944</td>\n",
       "      <td>0.344976</td>\n",
       "      <td>0.009214</td>\n",
       "      <td>0.279417</td>\n",
       "      <td>-0.154073</td>\n",
       "      <td>-0.278781</td>\n",
       "      <td>0.020659</td>\n",
       "      <td>0.099369</td>\n",
       "      <td>0.160784</td>\n",
       "      <td>0.018179</td>\n",
       "      <td>-0.092493</td>\n",
       "      <td>-0.310616</td>\n",
       "    </tr>\n",
       "    <tr>\n",
       "      <th>Fare</th>\n",
       "      <td>-0.259943</td>\n",
       "      <td>0.111644</td>\n",
       "      <td>1.000000</td>\n",
       "      <td>-0.131274</td>\n",
       "      <td>0.264665</td>\n",
       "      <td>-0.159843</td>\n",
       "      <td>-0.537449</td>\n",
       "      <td>0.661297</td>\n",
       "      <td>-0.038179</td>\n",
       "      <td>-0.368525</td>\n",
       "      <td>0.202167</td>\n",
       "      <td>0.274542</td>\n",
       "      <td>0.023431</td>\n",
       "      <td>0.079561</td>\n",
       "      <td>-0.396447</td>\n",
       "      <td>0.302196</td>\n",
       "      <td>0.099554</td>\n",
       "      <td>0.176700</td>\n",
       "    </tr>\n",
       "    <tr>\n",
       "      <th>Embarked_S</th>\n",
       "      <td>0.121405</td>\n",
       "      <td>-0.025431</td>\n",
       "      <td>-0.131274</td>\n",
       "      <td>1.000000</td>\n",
       "      <td>-0.782613</td>\n",
       "      <td>-0.499261</td>\n",
       "      <td>-0.013594</td>\n",
       "      <td>-0.165022</td>\n",
       "      <td>0.190824</td>\n",
       "      <td>-0.033624</td>\n",
       "      <td>-0.025824</td>\n",
       "      <td>0.061998</td>\n",
       "      <td>0.012723</td>\n",
       "      <td>0.041916</td>\n",
       "      <td>-0.005362</td>\n",
       "      <td>-0.038004</td>\n",
       "      <td>-0.018500</td>\n",
       "      <td>0.098619</td>\n",
       "    </tr>\n",
       "    <tr>\n",
       "      <th>Embarked_C</th>\n",
       "      <td>-0.084520</td>\n",
       "      <td>0.038268</td>\n",
       "      <td>0.264665</td>\n",
       "      <td>-0.782613</td>\n",
       "      <td>1.000000</td>\n",
       "      <td>-0.148646</td>\n",
       "      <td>-0.154785</td>\n",
       "      <td>0.299472</td>\n",
       "      <td>-0.126039</td>\n",
       "      <td>-0.031962</td>\n",
       "      <td>0.065215</td>\n",
       "      <td>-0.011227</td>\n",
       "      <td>0.002118</td>\n",
       "      <td>-0.051486</td>\n",
       "      <td>-0.034046</td>\n",
       "      <td>0.091498</td>\n",
       "      <td>0.011658</td>\n",
       "      <td>-0.112759</td>\n",
       "    </tr>\n",
       "    <tr>\n",
       "      <th>Embarked_Q</th>\n",
       "      <td>-0.075217</td>\n",
       "      <td>-0.021693</td>\n",
       "      <td>-0.159843</td>\n",
       "      <td>-0.499261</td>\n",
       "      <td>-0.148646</td>\n",
       "      <td>1.000000</td>\n",
       "      <td>0.237035</td>\n",
       "      <td>-0.154680</td>\n",
       "      <td>-0.127705</td>\n",
       "      <td>0.097900</td>\n",
       "      <td>-0.049747</td>\n",
       "      <td>-0.082861</td>\n",
       "      <td>-0.023159</td>\n",
       "      <td>0.005076</td>\n",
       "      <td>0.055905</td>\n",
       "      <td>-0.066981</td>\n",
       "      <td>0.013162</td>\n",
       "      <td>0.000284</td>\n",
       "    </tr>\n",
       "    <tr>\n",
       "      <th>Pclass_3</th>\n",
       "      <td>0.134227</td>\n",
       "      <td>-0.309944</td>\n",
       "      <td>-0.537449</td>\n",
       "      <td>-0.013594</td>\n",
       "      <td>-0.154785</td>\n",
       "      <td>0.237035</td>\n",
       "      <td>1.000000</td>\n",
       "      <td>-0.625395</td>\n",
       "      <td>-0.567432</td>\n",
       "      <td>0.040496</td>\n",
       "      <td>-0.067821</td>\n",
       "      <td>-0.009363</td>\n",
       "      <td>0.007213</td>\n",
       "      <td>0.074580</td>\n",
       "      <td>0.079167</td>\n",
       "      <td>-0.173007</td>\n",
       "      <td>-0.006017</td>\n",
       "      <td>0.169463</td>\n",
       "    </tr>\n",
       "    <tr>\n",
       "      <th>Pclass_1</th>\n",
       "      <td>-0.093142</td>\n",
       "      <td>0.344976</td>\n",
       "      <td>0.661297</td>\n",
       "      <td>-0.165022</td>\n",
       "      <td>0.299472</td>\n",
       "      <td>-0.154680</td>\n",
       "      <td>-0.625395</td>\n",
       "      <td>1.000000</td>\n",
       "      <td>-0.287653</td>\n",
       "      <td>-0.010644</td>\n",
       "      <td>0.020124</td>\n",
       "      <td>0.016020</td>\n",
       "      <td>-0.042346</td>\n",
       "      <td>-0.035108</td>\n",
       "      <td>-0.061432</td>\n",
       "      <td>0.128371</td>\n",
       "      <td>-0.026215</td>\n",
       "      <td>-0.095894</td>\n",
       "    </tr>\n",
       "    <tr>\n",
       "      <th>Pclass_2</th>\n",
       "      <td>-0.066459</td>\n",
       "      <td>0.009214</td>\n",
       "      <td>-0.038179</td>\n",
       "      <td>0.190824</td>\n",
       "      <td>-0.126039</td>\n",
       "      <td>-0.127705</td>\n",
       "      <td>-0.567432</td>\n",
       "      <td>-0.287653</td>\n",
       "      <td>1.000000</td>\n",
       "      <td>-0.038473</td>\n",
       "      <td>0.062006</td>\n",
       "      <td>-0.005413</td>\n",
       "      <td>0.035832</td>\n",
       "      <td>-0.054490</td>\n",
       "      <td>-0.032343</td>\n",
       "      <td>0.076883</td>\n",
       "      <td>0.035049</td>\n",
       "      <td>-0.106804</td>\n",
       "    </tr>\n",
       "    <tr>\n",
       "      <th>Parch &lt;= 0</th>\n",
       "      <td>0.249837</td>\n",
       "      <td>0.279417</td>\n",
       "      <td>-0.368525</td>\n",
       "      <td>-0.033624</td>\n",
       "      <td>-0.031962</td>\n",
       "      <td>0.097900</td>\n",
       "      <td>0.040496</td>\n",
       "      <td>-0.010644</td>\n",
       "      <td>-0.038473</td>\n",
       "      <td>1.000000</td>\n",
       "      <td>-0.696943</td>\n",
       "      <td>-0.560214</td>\n",
       "      <td>-0.133981</td>\n",
       "      <td>-0.190016</td>\n",
       "      <td>0.419741</td>\n",
       "      <td>-0.223256</td>\n",
       "      <td>-0.079841</td>\n",
       "      <td>-0.392354</td>\n",
       "    </tr>\n",
       "    <tr>\n",
       "      <th>0&lt; Parch &lt;= 1</th>\n",
       "      <td>-0.129117</td>\n",
       "      <td>-0.154073</td>\n",
       "      <td>0.202167</td>\n",
       "      <td>-0.025824</td>\n",
       "      <td>0.065215</td>\n",
       "      <td>-0.049747</td>\n",
       "      <td>-0.067821</td>\n",
       "      <td>0.020124</td>\n",
       "      <td>0.062006</td>\n",
       "      <td>-0.696943</td>\n",
       "      <td>1.000000</td>\n",
       "      <td>-0.123022</td>\n",
       "      <td>-0.029422</td>\n",
       "      <td>-0.041727</td>\n",
       "      <td>-0.302025</td>\n",
       "      <td>0.228750</td>\n",
       "      <td>0.062328</td>\n",
       "      <td>0.148090</td>\n",
       "    </tr>\n",
       "    <tr>\n",
       "      <th>1&lt; Parch &lt;= 2</th>\n",
       "      <td>-0.172326</td>\n",
       "      <td>-0.278781</td>\n",
       "      <td>0.274542</td>\n",
       "      <td>0.061998</td>\n",
       "      <td>-0.011227</td>\n",
       "      <td>-0.082861</td>\n",
       "      <td>-0.009363</td>\n",
       "      <td>0.016020</td>\n",
       "      <td>-0.005413</td>\n",
       "      <td>-0.560214</td>\n",
       "      <td>-0.123022</td>\n",
       "      <td>1.000000</td>\n",
       "      <td>-0.023650</td>\n",
       "      <td>-0.033541</td>\n",
       "      <td>-0.215456</td>\n",
       "      <td>0.001783</td>\n",
       "      <td>0.033316</td>\n",
       "      <td>0.423418</td>\n",
       "    </tr>\n",
       "    <tr>\n",
       "      <th>2&lt; Parch &lt;= 3</th>\n",
       "      <td>-0.070759</td>\n",
       "      <td>0.020659</td>\n",
       "      <td>0.023431</td>\n",
       "      <td>0.012723</td>\n",
       "      <td>0.002118</td>\n",
       "      <td>-0.023159</td>\n",
       "      <td>0.007213</td>\n",
       "      <td>-0.042346</td>\n",
       "      <td>0.035832</td>\n",
       "      <td>-0.133981</td>\n",
       "      <td>-0.029422</td>\n",
       "      <td>-0.023650</td>\n",
       "      <td>1.000000</td>\n",
       "      <td>-0.008022</td>\n",
       "      <td>-0.077764</td>\n",
       "      <td>0.064716</td>\n",
       "      <td>0.072559</td>\n",
       "      <td>-0.017568</td>\n",
       "    </tr>\n",
       "    <tr>\n",
       "      <th>Parch &gt;= 4</th>\n",
       "      <td>-0.078005</td>\n",
       "      <td>0.099369</td>\n",
       "      <td>0.079561</td>\n",
       "      <td>0.041916</td>\n",
       "      <td>-0.051486</td>\n",
       "      <td>0.005076</td>\n",
       "      <td>0.074580</td>\n",
       "      <td>-0.035108</td>\n",
       "      <td>-0.054490</td>\n",
       "      <td>-0.190016</td>\n",
       "      <td>-0.041727</td>\n",
       "      <td>-0.033541</td>\n",
       "      <td>-0.008022</td>\n",
       "      <td>1.000000</td>\n",
       "      <td>-0.087390</td>\n",
       "      <td>0.116935</td>\n",
       "      <td>-0.019235</td>\n",
       "      <td>-0.024916</td>\n",
       "    </tr>\n",
       "    <tr>\n",
       "      <th>SibSp &lt;= 0</th>\n",
       "      <td>0.205817</td>\n",
       "      <td>0.160784</td>\n",
       "      <td>-0.396447</td>\n",
       "      <td>-0.005362</td>\n",
       "      <td>-0.034046</td>\n",
       "      <td>0.055905</td>\n",
       "      <td>0.079167</td>\n",
       "      <td>-0.061432</td>\n",
       "      <td>-0.032343</td>\n",
       "      <td>0.419741</td>\n",
       "      <td>-0.302025</td>\n",
       "      <td>-0.215456</td>\n",
       "      <td>-0.077764</td>\n",
       "      <td>-0.087390</td>\n",
       "      <td>1.000000</td>\n",
       "      <td>-0.811263</td>\n",
       "      <td>-0.263889</td>\n",
       "      <td>-0.341828</td>\n",
       "    </tr>\n",
       "    <tr>\n",
       "      <th>0&lt; SibSp &lt;= 1</th>\n",
       "      <td>-0.181466</td>\n",
       "      <td>0.018179</td>\n",
       "      <td>0.302196</td>\n",
       "      <td>-0.038004</td>\n",
       "      <td>0.091498</td>\n",
       "      <td>-0.066981</td>\n",
       "      <td>-0.173007</td>\n",
       "      <td>0.128371</td>\n",
       "      <td>0.076883</td>\n",
       "      <td>-0.223256</td>\n",
       "      <td>0.228750</td>\n",
       "      <td>0.001783</td>\n",
       "      <td>0.064716</td>\n",
       "      <td>0.116935</td>\n",
       "      <td>-0.811263</td>\n",
       "      <td>1.000000</td>\n",
       "      <td>-0.099976</td>\n",
       "      <td>-0.129504</td>\n",
       "    </tr>\n",
       "    <tr>\n",
       "      <th>1&lt; SibSp &lt;= 2</th>\n",
       "      <td>-0.042821</td>\n",
       "      <td>-0.092493</td>\n",
       "      <td>0.099554</td>\n",
       "      <td>-0.018500</td>\n",
       "      <td>0.011658</td>\n",
       "      <td>0.013162</td>\n",
       "      <td>-0.006017</td>\n",
       "      <td>-0.026215</td>\n",
       "      <td>0.035049</td>\n",
       "      <td>-0.079841</td>\n",
       "      <td>0.062328</td>\n",
       "      <td>0.033316</td>\n",
       "      <td>0.072559</td>\n",
       "      <td>-0.019235</td>\n",
       "      <td>-0.263889</td>\n",
       "      <td>-0.099976</td>\n",
       "      <td>1.000000</td>\n",
       "      <td>-0.042125</td>\n",
       "    </tr>\n",
       "    <tr>\n",
       "      <th>SibSp &gt;= 3</th>\n",
       "      <td>-0.051668</td>\n",
       "      <td>-0.310616</td>\n",
       "      <td>0.176700</td>\n",
       "      <td>0.098619</td>\n",
       "      <td>-0.112759</td>\n",
       "      <td>0.000284</td>\n",
       "      <td>0.169463</td>\n",
       "      <td>-0.095894</td>\n",
       "      <td>-0.106804</td>\n",
       "      <td>-0.392354</td>\n",
       "      <td>0.148090</td>\n",
       "      <td>0.423418</td>\n",
       "      <td>-0.017568</td>\n",
       "      <td>-0.024916</td>\n",
       "      <td>-0.341828</td>\n",
       "      <td>-0.129504</td>\n",
       "      <td>-0.042125</td>\n",
       "      <td>1.000000</td>\n",
       "    </tr>\n",
       "  </tbody>\n",
       "</table>\n",
       "</div>"
      ],
      "text/plain": [
       "                    Sex       Age      Fare  Embarked_S  Embarked_C  \\\n",
       "Sex            1.000000  0.099037 -0.259943    0.121405   -0.084520   \n",
       "Age            0.099037  1.000000  0.111644   -0.025431    0.038268   \n",
       "Fare          -0.259943  0.111644  1.000000   -0.131274    0.264665   \n",
       "Embarked_S     0.121405 -0.025431 -0.131274    1.000000   -0.782613   \n",
       "Embarked_C    -0.084520  0.038268  0.264665   -0.782613    1.000000   \n",
       "Embarked_Q    -0.075217 -0.021693 -0.159843   -0.499261   -0.148646   \n",
       "Pclass_3       0.134227 -0.309944 -0.537449   -0.013594   -0.154785   \n",
       "Pclass_1      -0.093142  0.344976  0.661297   -0.165022    0.299472   \n",
       "Pclass_2      -0.066459  0.009214 -0.038179    0.190824   -0.126039   \n",
       "Parch <= 0     0.249837  0.279417 -0.368525   -0.033624   -0.031962   \n",
       "0< Parch <= 1 -0.129117 -0.154073  0.202167   -0.025824    0.065215   \n",
       "1< Parch <= 2 -0.172326 -0.278781  0.274542    0.061998   -0.011227   \n",
       "2< Parch <= 3 -0.070759  0.020659  0.023431    0.012723    0.002118   \n",
       "Parch >= 4    -0.078005  0.099369  0.079561    0.041916   -0.051486   \n",
       "SibSp <= 0     0.205817  0.160784 -0.396447   -0.005362   -0.034046   \n",
       "0< SibSp <= 1 -0.181466  0.018179  0.302196   -0.038004    0.091498   \n",
       "1< SibSp <= 2 -0.042821 -0.092493  0.099554   -0.018500    0.011658   \n",
       "SibSp >= 3    -0.051668 -0.310616  0.176700    0.098619   -0.112759   \n",
       "\n",
       "               Embarked_Q  Pclass_3  Pclass_1  Pclass_2  Parch <= 0  \\\n",
       "Sex             -0.075217  0.134227 -0.093142 -0.066459    0.249837   \n",
       "Age             -0.021693 -0.309944  0.344976  0.009214    0.279417   \n",
       "Fare            -0.159843 -0.537449  0.661297 -0.038179   -0.368525   \n",
       "Embarked_S      -0.499261 -0.013594 -0.165022  0.190824   -0.033624   \n",
       "Embarked_C      -0.148646 -0.154785  0.299472 -0.126039   -0.031962   \n",
       "Embarked_Q       1.000000  0.237035 -0.154680 -0.127705    0.097900   \n",
       "Pclass_3         0.237035  1.000000 -0.625395 -0.567432    0.040496   \n",
       "Pclass_1        -0.154680 -0.625395  1.000000 -0.287653   -0.010644   \n",
       "Pclass_2        -0.127705 -0.567432 -0.287653  1.000000   -0.038473   \n",
       "Parch <= 0       0.097900  0.040496 -0.010644 -0.038473    1.000000   \n",
       "0< Parch <= 1   -0.049747 -0.067821  0.020124  0.062006   -0.696943   \n",
       "1< Parch <= 2   -0.082861 -0.009363  0.016020 -0.005413   -0.560214   \n",
       "2< Parch <= 3   -0.023159  0.007213 -0.042346  0.035832   -0.133981   \n",
       "Parch >= 4       0.005076  0.074580 -0.035108 -0.054490   -0.190016   \n",
       "SibSp <= 0       0.055905  0.079167 -0.061432 -0.032343    0.419741   \n",
       "0< SibSp <= 1   -0.066981 -0.173007  0.128371  0.076883   -0.223256   \n",
       "1< SibSp <= 2    0.013162 -0.006017 -0.026215  0.035049   -0.079841   \n",
       "SibSp >= 3       0.000284  0.169463 -0.095894 -0.106804   -0.392354   \n",
       "\n",
       "               0< Parch <= 1  1< Parch <= 2  2< Parch <= 3  Parch >= 4  \\\n",
       "Sex                -0.129117      -0.172326      -0.070759   -0.078005   \n",
       "Age                -0.154073      -0.278781       0.020659    0.099369   \n",
       "Fare                0.202167       0.274542       0.023431    0.079561   \n",
       "Embarked_S         -0.025824       0.061998       0.012723    0.041916   \n",
       "Embarked_C          0.065215      -0.011227       0.002118   -0.051486   \n",
       "Embarked_Q         -0.049747      -0.082861      -0.023159    0.005076   \n",
       "Pclass_3           -0.067821      -0.009363       0.007213    0.074580   \n",
       "Pclass_1            0.020124       0.016020      -0.042346   -0.035108   \n",
       "Pclass_2            0.062006      -0.005413       0.035832   -0.054490   \n",
       "Parch <= 0         -0.696943      -0.560214      -0.133981   -0.190016   \n",
       "0< Parch <= 1       1.000000      -0.123022      -0.029422   -0.041727   \n",
       "1< Parch <= 2      -0.123022       1.000000      -0.023650   -0.033541   \n",
       "2< Parch <= 3      -0.029422      -0.023650       1.000000   -0.008022   \n",
       "Parch >= 4         -0.041727      -0.033541      -0.008022    1.000000   \n",
       "SibSp <= 0         -0.302025      -0.215456      -0.077764   -0.087390   \n",
       "0< SibSp <= 1       0.228750       0.001783       0.064716    0.116935   \n",
       "1< SibSp <= 2       0.062328       0.033316       0.072559   -0.019235   \n",
       "SibSp >= 3          0.148090       0.423418      -0.017568   -0.024916   \n",
       "\n",
       "               SibSp <= 0  0< SibSp <= 1  1< SibSp <= 2  SibSp >= 3  \n",
       "Sex              0.205817      -0.181466      -0.042821   -0.051668  \n",
       "Age              0.160784       0.018179      -0.092493   -0.310616  \n",
       "Fare            -0.396447       0.302196       0.099554    0.176700  \n",
       "Embarked_S      -0.005362      -0.038004      -0.018500    0.098619  \n",
       "Embarked_C      -0.034046       0.091498       0.011658   -0.112759  \n",
       "Embarked_Q       0.055905      -0.066981       0.013162    0.000284  \n",
       "Pclass_3         0.079167      -0.173007      -0.006017    0.169463  \n",
       "Pclass_1        -0.061432       0.128371      -0.026215   -0.095894  \n",
       "Pclass_2        -0.032343       0.076883       0.035049   -0.106804  \n",
       "Parch <= 0       0.419741      -0.223256      -0.079841   -0.392354  \n",
       "0< Parch <= 1   -0.302025       0.228750       0.062328    0.148090  \n",
       "1< Parch <= 2   -0.215456       0.001783       0.033316    0.423418  \n",
       "2< Parch <= 3   -0.077764       0.064716       0.072559   -0.017568  \n",
       "Parch >= 4      -0.087390       0.116935      -0.019235   -0.024916  \n",
       "SibSp <= 0       1.000000      -0.811263      -0.263889   -0.341828  \n",
       "0< SibSp <= 1   -0.811263       1.000000      -0.099976   -0.129504  \n",
       "1< SibSp <= 2   -0.263889      -0.099976       1.000000   -0.042125  \n",
       "SibSp >= 3      -0.341828      -0.129504      -0.042125    1.000000  "
      ]
     },
     "execution_count": 50,
     "metadata": {},
     "output_type": "execute_result"
    }
   ],
   "source": [
    "train.corr()"
   ]
  },
  {
   "cell_type": "code",
   "execution_count": 51,
   "metadata": {},
   "outputs": [
    {
     "data": {
      "text/plain": [
       "<matplotlib.axes._subplots.AxesSubplot at 0x123d64e0>"
      ]
     },
     "execution_count": 51,
     "metadata": {},
     "output_type": "execute_result"
    },
    {
     "data": {
      "image/png": "[encoded data removed]",
      "text/plain": [
       "<matplotlib.figure.Figure at 0x104b6ef0>"
      ]
     },
     "metadata": {},
     "output_type": "display_data"
    }
   ],
   "source": [
    "sns.heatmap(train.corr()) #Pclass_1 and Fare are correlated => removing Pclass_1"
   ]
  },
  {
   "cell_type": "code",
   "execution_count": 52,
   "metadata": {
    "collapsed": true
   },
   "outputs": [],
   "source": [
    "train = train.drop('Pclass_1',axis = 1)"
   ]
  },
  {
   "cell_type": "code",
   "execution_count": null,
   "metadata": {
    "collapsed": true
   },
   "outputs": [],
   "source": []
  },
  {
   "cell_type": "code",
   "execution_count": null,
   "metadata": {
    "collapsed": true
   },
   "outputs": [],
   "source": []
  },
  {
   "cell_type": "code",
   "execution_count": null,
   "metadata": {
    "collapsed": true
   },
   "outputs": [],
   "source": []
  },
  {
   "cell_type": "code",
   "execution_count": null,
   "metadata": {
    "collapsed": true
   },
   "outputs": [],
   "source": []
  },
  {
   "cell_type": "markdown",
   "metadata": {},
   "source": [
    "### Option 1- replace with mean since looks like normal"
   ]
  },
  {
   "cell_type": "code",
   "execution_count": 49,
   "metadata": {
    "collapsed": true,
    "scrolled": true
   },
   "outputs": [],
   "source": [
    "## replacing null with mean values\n",
    "train.iloc[get_null_rows(train,'Age')] = np.mean(train[~train['Age'].isnull()]['Age'])\n",
    "test.iloc[get_null_rows(test,'Age')] = np.mean(train[~train['Age'].isnull()]['Age'])\n",
    "age_mean =  train['Age'].mean()\n",
    "age_std = train['Age'].std()"
   ]
  },
  {
   "cell_type": "code",
   "execution_count": 50,
   "metadata": {
    "collapsed": true
   },
   "outputs": [],
   "source": [
    "## normalizing (standardizing)\n",
    "train['Age'] = (train['Age'] - age_mean) /  age_std"
   ]
  },
  {
   "cell_type": "code",
   "execution_count": 51,
   "metadata": {},
   "outputs": [
    {
     "data": {
      "image/png": "[encoded data removed]",
      "text/plain": [
       "<matplotlib.figure.Figure at 0x123ab1d0>"
      ]
     },
     "execution_count": 51,
     "metadata": {},
     "output_type": "execute_result"
    },
    {
     "data": {
      "image/png": "[encoded data removed]",
      "text/plain": [
       "<matplotlib.figure.Figure at 0x123ab1d0>"
      ]
     },
     "metadata": {},
     "output_type": "display_data"
    }
   ],
   "source": [
    "sm.qqplot(train['Age'],line='45')"
   ]
  },
  {
   "cell_type": "markdown",
   "metadata": {},
   "source": [
    "### Option 2 - predicting Age (averaging on ridge, lasso, svm, RF, gradient boosting  (on training set alone))"
   ]
  },
  {
   "cell_type": "markdown",
   "metadata": {},
   "source": [
    "### Age as 'y'"
   ]
  },
  {
   "cell_type": "code",
   "execution_count": 53,
   "metadata": {
    "collapsed": true
   },
   "outputs": [],
   "source": [
    "y_no_age = train[~train['Age'].isnull()]['Age']\n",
    "y_test_age = train[train['Age'].isnull()]['Age']"
   ]
  },
  {
   "cell_type": "code",
   "execution_count": 54,
   "metadata": {
    "collapsed": true
   },
   "outputs": [],
   "source": [
    "X_no_age = train[~train['Age'].isnull()]\n",
    "X_test_age = train[train['Age'].isnull()]\n",
    "X_no_age = X_no_age.drop('Age',1)\n",
    "X_test_age = X_test_age.drop('Age',1)"
   ]
  },
  {
   "cell_type": "code",
   "execution_count": null,
   "metadata": {
    "collapsed": true
   },
   "outputs": [],
   "source": []
  },
  {
   "cell_type": "markdown",
   "metadata": {
    "collapsed": true
   },
   "source": [
    "#### Ridge"
   ]
  },
  {
   "cell_type": "code",
   "execution_count": 55,
   "metadata": {},
   "outputs": [
    {
     "data": {
      "text/plain": [
       "Ridge(alpha=1.0, copy_X=True, fit_intercept=True, max_iter=None,\n",
       "   normalize=False, random_state=1, solver='auto', tol=0.001)"
      ]
     },
     "execution_count": 55,
     "metadata": {},
     "output_type": "execute_result"
    }
   ],
   "source": [
    "param_grid = {'alpha':np.logspace(-4,1,num=6)}\n",
    "Ridge_age = get_best_model(Ridge(random_state=1),X_no_age,y_no_age,params=param_grid,cv=50)\n",
    "Ridge_age.fit(X_no_age,y_no_age)"
   ]
  },
  {
   "cell_type": "markdown",
   "metadata": {},
   "source": [
    "#### Lasso"
   ]
  },
  {
   "cell_type": "code",
   "execution_count": 56,
   "metadata": {},
   "outputs": [
    {
     "name": "stderr",
     "output_type": "stream",
     "text": [
      "C:\\Users\\galkampel.DESKTOP-KTJUKIM\\Anaconda2\\lib\\site-packages\\sklearn\\linear_model\\coordinate_descent.py:491: ConvergenceWarning: Objective did not converge. You might want to increase the number of iterations. Fitting data with very small alpha may cause precision problems.\n",
      "  ConvergenceWarning)\n"
     ]
    },
    {
     "data": {
      "text/plain": [
       "Lasso(alpha=0.01, copy_X=True, fit_intercept=True, max_iter=1000,\n",
       "   normalize=False, positive=False, precompute=False, random_state=1,\n",
       "   selection='cyclic', tol=0.0001, warm_start=False)"
      ]
     },
     "execution_count": 56,
     "metadata": {},
     "output_type": "execute_result"
    }
   ],
   "source": [
    "param_grid = {'alpha':np.logspace(-4,1,num=6)}\n",
    "Lasso_age = get_best_model(Lasso(random_state=1),X_no_age,y_no_age,params=param_grid,cv=50)\n",
    "Lasso_age.fit(X_no_age,y_no_age)"
   ]
  },
  {
   "cell_type": "markdown",
   "metadata": {
    "collapsed": true
   },
   "source": [
    "#### SVR"
   ]
  },
  {
   "cell_type": "code",
   "execution_count": 57,
   "metadata": {},
   "outputs": [
    {
     "data": {
      "text/plain": [
       "SVR(C=10.0, cache_size=200, coef0=0.0, degree=3, epsilon=0.1,\n",
       "  gamma=0.10000000000000001, kernel='rbf', max_iter=-1, shrinking=True,\n",
       "  tol=0.001, verbose=False)"
      ]
     },
     "execution_count": 57,
     "metadata": {},
     "output_type": "execute_result"
    }
   ],
   "source": [
    "param_grid={\"C\": [1e0, 1e1, 1e2, 1e3],\"gamma\": np.logspace(-2, 2, 5)}\n",
    "SVR_age = get_best_model(SVR(kernel='rbf', gamma=0.1),X_no_age,y_no_age,params=param_grid,cv=50)\n",
    "SVR_age.fit(X_no_age,y_no_age)"
   ]
  },
  {
   "cell_type": "markdown",
   "metadata": {
    "collapsed": true
   },
   "source": [
    "#### RF"
   ]
  },
  {
   "cell_type": "code",
   "execution_count": 58,
   "metadata": {},
   "outputs": [
    {
     "data": {
      "text/plain": [
       "RandomForestRegressor(bootstrap=True, criterion='mae', max_depth=None,\n",
       "           max_features='auto', max_leaf_nodes=None,\n",
       "           min_impurity_decrease=0.0, min_impurity_split=None,\n",
       "           min_samples_leaf=1, min_samples_split=2,\n",
       "           min_weight_fraction_leaf=0.0, n_estimators=10, n_jobs=1,\n",
       "           oob_score=False, random_state=1, verbose=0, warm_start=False)"
      ]
     },
     "execution_count": 58,
     "metadata": {},
     "output_type": "execute_result"
    }
   ],
   "source": [
    "param_grid={\"criterion\": [\"mse\", \"mae\"]}\n",
    "RF_age = get_best_model(RandomForestRegressor(random_state=1),X_no_age,y_no_age,params=param_grid,cv=50)\n",
    "RF_age.fit(X_no_age,y_no_age)"
   ]
  },
  {
   "cell_type": "markdown",
   "metadata": {},
   "source": [
    "#### GB"
   ]
  },
  {
   "cell_type": "code",
   "execution_count": 59,
   "metadata": {},
   "outputs": [
    {
     "data": {
      "text/plain": [
       "GradientBoostingRegressor(alpha=0.9, criterion='friedman_mse', init=None,\n",
       "             learning_rate=0.1, loss='ls', max_depth=3, max_features=None,\n",
       "             max_leaf_nodes=None, min_impurity_decrease=0.0,\n",
       "             min_impurity_split=None, min_samples_leaf=1,\n",
       "             min_samples_split=2, min_weight_fraction_leaf=0.0,\n",
       "             n_estimators=100, presort='auto', random_state=1,\n",
       "             subsample=1.0, verbose=0, warm_start=False)"
      ]
     },
     "execution_count": 59,
     "metadata": {},
     "output_type": "execute_result"
    }
   ],
   "source": [
    "param_grid={'max_depth':range(3,10,2), 'learning_rate':[0.001,0.01,0.1] }\n",
    "GB_age = get_best_model(GradientBoostingRegressor(random_state=1),X_no_age,y_no_age,params=param_grid,cv=50)\n",
    "GB_age.fit(X_no_age,y_no_age)"
   ]
  },
  {
   "cell_type": "markdown",
   "metadata": {},
   "source": [
    "#### predict using the average of the models"
   ]
  },
  {
   "cell_type": "code",
   "execution_count": 60,
   "metadata": {
    "collapsed": true
   },
   "outputs": [],
   "source": [
    "pred_age = (Ridge_age.predict(X_test_age) + Lasso_age.predict(X_test_age) + SVR_age.predict(X_test_age) \\\n",
    "+ RF_age.predict(X_test_age) + GB_age.predict(X_test_age) ) / 5"
   ]
  },
  {
   "cell_type": "markdown",
   "metadata": {},
   "source": [
    "### filling Nan in training set"
   ]
  },
  {
   "cell_type": "code",
   "execution_count": 61,
   "metadata": {
    "collapsed": true
   },
   "outputs": [],
   "source": [
    "train.loc[train['Age'].isnull(),'Age'] = pred_age"
   ]
  },
  {
   "cell_type": "code",
   "execution_count": null,
   "metadata": {
    "collapsed": true
   },
   "outputs": [],
   "source": []
  },
  {
   "cell_type": "code",
   "execution_count": null,
   "metadata": {
    "collapsed": true
   },
   "outputs": [],
   "source": []
  },
  {
   "cell_type": "code",
   "execution_count": null,
   "metadata": {
    "collapsed": true
   },
   "outputs": [],
   "source": []
  },
  {
   "cell_type": "markdown",
   "metadata": {},
   "source": [
    "### looking for outliers"
   ]
  },
  {
   "cell_type": "markdown",
   "metadata": {
    "collapsed": true
   },
   "source": [
    "### isolation forest -isolating observations by randomly selecting a feature and then randomly selecting a split value between the maximum and minimum values of the selected feature. \n",
    "\n",
    "\n",
    "### Since recursive partitioning can be represented by a tree structure, the number of splittings required to isolate a sample is equivalent to the path length from the root node to the terminating node. This path length, averaged over a forest of such random trees, is a measure of normality and our decision function. Random partitioning produces noticeably shorter paths for anomalies. Hence, when a forest of random trees collectively produce shorter path lengths for particular samples, they are highly likely to be anomalies."
   ]
  },
  {
   "cell_type": "code",
   "execution_count": 62,
   "metadata": {},
   "outputs": [
    {
     "data": {
      "text/plain": [
       "IsolationForest(bootstrap=False, contamination=0.1, max_features=1.0,\n",
       "        max_samples='auto', n_estimators=100, n_jobs=1,\n",
       "        random_state=<mtrand.RandomState object at 0x000000001225C0D8>,\n",
       "        verbose=0)"
      ]
     },
     "execution_count": 62,
     "metadata": {},
     "output_type": "execute_result"
    }
   ],
   "source": [
    "clf = IsolationForest(random_state=np.random.RandomState(2))\n",
    "clf.fit(train)"
   ]
  },
  {
   "cell_type": "code",
   "execution_count": 63,
   "metadata": {
    "collapsed": true
   },
   "outputs": [],
   "source": [
    "y_s = clf.predict(train)\n",
    "y_1 = (y_s == 1)  "
   ]
  },
  {
   "cell_type": "code",
   "execution_count": 64,
   "metadata": {},
   "outputs": [
    {
     "data": {
      "text/plain": [
       "89"
      ]
     },
     "execution_count": 64,
     "metadata": {},
     "output_type": "execute_result"
    }
   ],
   "source": [
    "(y_1 == False).sum() ## there are 89 outliers"
   ]
  },
  {
   "cell_type": "code",
   "execution_count": null,
   "metadata": {
    "collapsed": true
   },
   "outputs": [],
   "source": []
  },
  {
   "cell_type": "markdown",
   "metadata": {},
   "source": [
    "### PCA"
   ]
  },
  {
   "cell_type": "code",
   "execution_count": 65,
   "metadata": {
    "collapsed": true
   },
   "outputs": [],
   "source": [
    "pca = PCA(n_components=2)"
   ]
  },
  {
   "cell_type": "code",
   "execution_count": 66,
   "metadata": {
    "collapsed": true
   },
   "outputs": [],
   "source": [
    "model  = pca.fit(train)"
   ]
  },
  {
   "cell_type": "code",
   "execution_count": 67,
   "metadata": {},
   "outputs": [
    {
     "data": {
      "text/plain": [
       "0.9911536276856262"
      ]
     },
     "execution_count": 67,
     "metadata": {},
     "output_type": "execute_result"
    }
   ],
   "source": [
    "model.explained_variance_ratio_.sum() #explained variance is low"
   ]
  },
  {
   "cell_type": "code",
   "execution_count": 68,
   "metadata": {
    "collapsed": true
   },
   "outputs": [],
   "source": [
    "regulars = train.loc[y_1,:]\n",
    "outliers = train.loc[~y_1,:]"
   ]
  },
  {
   "cell_type": "code",
   "execution_count": 69,
   "metadata": {
    "collapsed": true
   },
   "outputs": [],
   "source": [
    "PC1_regular = np.dot(regulars,model.components_[0])\n",
    "PC2_regular = np.dot(regulars,model.components_[1])\n",
    "\n",
    "PC1_outlier = np.dot(outliers,model.components_[0])\n",
    "PC2_outlier = np.dot(outliers,model.components_[1])"
   ]
  },
  {
   "cell_type": "code",
   "execution_count": 70,
   "metadata": {},
   "outputs": [
    {
     "data": {
      "text/plain": [
       "array([], dtype=int64)"
      ]
     },
     "execution_count": 70,
     "metadata": {},
     "output_type": "execute_result"
    }
   ],
   "source": [
    "np.where(PC1_regular < -2)[0]"
   ]
  },
  {
   "cell_type": "code",
   "execution_count": null,
   "metadata": {
    "collapsed": true
   },
   "outputs": [],
   "source": []
  },
  {
   "cell_type": "code",
   "execution_count": 71,
   "metadata": {},
   "outputs": [
    {
     "data": {
      "text/plain": [
       "<matplotlib.text.Text at 0x127f95c0>"
      ]
     },
     "execution_count": 71,
     "metadata": {},
     "output_type": "execute_result"
    },
    {
     "data": {
      "image/png": "[encoded data removed]",
      "text/plain": [
       "<matplotlib.figure.Figure at 0x128809b0>"
      ]
     },
     "metadata": {},
     "output_type": "display_data"
    }
   ],
   "source": [
    "plt.figure()\n",
    "plt.scatter(PC1_regular,PC2_regular,color = 'b', label = 'regular')\n",
    "plt.scatter(PC1_outlier,PC2_outlier,color = 'r',label = 'outlier')\n",
    "plt.legend(loc='lower left')\n",
    "plt.xlabel(\"PC1\")\n",
    "plt.ylabel(\"PC1\")\n",
    "plt.title(\"Data projected by 2 PC\")\n",
    "## oulier detection does not look good according to the plot"
   ]
  },
  {
   "cell_type": "markdown",
   "metadata": {},
   "source": [
    "### preparing test for modeling"
   ]
  },
  {
   "cell_type": "code",
   "execution_count": 72,
   "metadata": {
    "scrolled": true
   },
   "outputs": [
    {
     "data": {
      "text/plain": [
       "PassengerId      0\n",
       "Pclass           0\n",
       "Name             0\n",
       "Sex              0\n",
       "Age             86\n",
       "SibSp            0\n",
       "Parch            0\n",
       "Ticket           0\n",
       "Fare             0\n",
       "Cabin          327\n",
       "Embarked         0\n",
       "dtype: int64"
      ]
     },
     "execution_count": 72,
     "metadata": {},
     "output_type": "execute_result"
    }
   ],
   "source": [
    "test.isnull().sum()"
   ]
  },
  {
   "cell_type": "code",
   "execution_count": null,
   "metadata": {
    "collapsed": true
   },
   "outputs": [],
   "source": []
  },
  {
   "cell_type": "code",
   "execution_count": 73,
   "metadata": {
    "collapsed": true
   },
   "outputs": [],
   "source": [
    "test = test.drop(['PassengerId','Name','Cabin','Ticket'],1)\n",
    "test['Sex'] = test['Sex'].map(lambda val: 1 if val =='male'  else 0 )\n",
    "test = att_to_dummy(test,'Embarked',embarked,new_vals1)\n",
    "test = att_to_dummy(test,'Pclass',pcalss,new_vals2)\n",
    "\n",
    "split_to_ranges(test,'Parch',[0,1,2,3,4])\n",
    "test = test.drop(['Parch'],axis=1)\n",
    "\n",
    "split_to_ranges(test,'SibSp',[0,1,2,3])\n",
    "test = test.drop(['SibSp'],axis=1)\n",
    "\n",
    "test = test.drop(['Pclass_1'],axis=1) #remove because of correlation"
   ]
  },
  {
   "cell_type": "code",
   "execution_count": 74,
   "metadata": {},
   "outputs": [
    {
     "data": {
      "text/plain": [
       "Index([u'Sex', u'Age', u'Fare', u'Embarked_S', u'Embarked_C', u'Embarked_Q',\n",
       "       u'Pclass_3', u'Pclass_2', u'Parch <= 0', u'0< Parch <= 1',\n",
       "       u'1< Parch <= 2', u'2< Parch <= 3', u'Parch >= 4', u'SibSp <= 0',\n",
       "       u'0< SibSp <= 1', u'1< SibSp <= 2', u'SibSp >= 3'],\n",
       "      dtype='object')"
      ]
     },
     "execution_count": 74,
     "metadata": {},
     "output_type": "execute_result"
    }
   ],
   "source": [
    "test.columns"
   ]
  },
  {
   "cell_type": "code",
   "execution_count": 75,
   "metadata": {
    "collapsed": true
   },
   "outputs": [],
   "source": [
    "log_fare_2 = np.log(test['Fare'] + 1)\n",
    "log_fare_2 = (log_fare_2  - log_fare_mean) / log_fare_std\n",
    "test['Fare'] = log_fare_2"
   ]
  },
  {
   "cell_type": "markdown",
   "metadata": {},
   "source": [
    "### option 1"
   ]
  },
  {
   "cell_type": "code",
   "execution_count": 71,
   "metadata": {
    "collapsed": true
   },
   "outputs": [],
   "source": [
    "test['Age'] = (test['Age'] - age_mean) /  age_std"
   ]
  },
  {
   "cell_type": "markdown",
   "metadata": {},
   "source": [
    "### option 2"
   ]
  },
  {
   "cell_type": "markdown",
   "metadata": {
    "collapsed": true
   },
   "source": [
    "### filling Nan in test set"
   ]
  },
  {
   "cell_type": "code",
   "execution_count": 76,
   "metadata": {
    "collapsed": true
   },
   "outputs": [],
   "source": [
    "test_fill_age = test.loc[test['Age'].isnull()].drop('Age',1)"
   ]
  },
  {
   "cell_type": "code",
   "execution_count": 77,
   "metadata": {
    "collapsed": true
   },
   "outputs": [],
   "source": [
    "pred_age_test = (Ridge_age.predict(test_fill_age) + Lasso_age.predict(test_fill_age) + SVR_age.predict(test_fill_age) \\\n",
    "+ RF_age.predict(test_fill_age) + GB_age.predict(test_fill_age) ) / 5"
   ]
  },
  {
   "cell_type": "code",
   "execution_count": 79,
   "metadata": {
    "collapsed": true
   },
   "outputs": [],
   "source": [
    "test.loc[test['Age'].isnull(),'Age'] = pred_age_test"
   ]
  },
  {
   "cell_type": "code",
   "execution_count": 80,
   "metadata": {
    "collapsed": true
   },
   "outputs": [],
   "source": [
    "age_mean =  train['Age'].mean()\n",
    "age_std = train['Age'].std()\n",
    "train['Age'] = (train['Age'] - age_mean) /  age_std"
   ]
  },
  {
   "cell_type": "code",
   "execution_count": 81,
   "metadata": {
    "collapsed": true
   },
   "outputs": [],
   "source": [
    "test['Age'] = (test['Age'] - age_mean) /  age_std"
   ]
  },
  {
   "cell_type": "code",
   "execution_count": null,
   "metadata": {
    "collapsed": true
   },
   "outputs": [],
   "source": []
  },
  {
   "cell_type": "code",
   "execution_count": null,
   "metadata": {
    "collapsed": true
   },
   "outputs": [],
   "source": []
  },
  {
   "cell_type": "code",
   "execution_count": null,
   "metadata": {
    "collapsed": true
   },
   "outputs": [],
   "source": []
  },
  {
   "cell_type": "code",
   "execution_count": null,
   "metadata": {
    "collapsed": true
   },
   "outputs": [],
   "source": []
  },
  {
   "cell_type": "markdown",
   "metadata": {},
   "source": [
    "#### balance the data (SMOTE)"
   ]
  },
  {
   "cell_type": "code",
   "execution_count": 82,
   "metadata": {},
   "outputs": [
    {
     "data": {
      "image/png": "[encoded data removed]",
      "text/plain": [
       "<matplotlib.figure.Figure at 0x11764b00>"
      ]
     },
     "metadata": {},
     "output_type": "display_data"
    }
   ],
   "source": [
    "ax = pd.value_counts(y_train, sort = True).sort_index().plot(kind='bar', title=\"Survived count\")\n",
    "for p in ax.patches:\n",
    "    ax.annotate(str(format(int(p.get_height()), ',d')), (p.get_x(), p.get_height()))"
   ]
  },
  {
   "cell_type": "code",
   "execution_count": 83,
   "metadata": {
    "collapsed": true
   },
   "outputs": [],
   "source": [
    "sm = SMOTE(random_state=42)\n",
    "X_model, y_model = sm.fit_sample(train, y_train)"
   ]
  },
  {
   "cell_type": "code",
   "execution_count": 84,
   "metadata": {},
   "outputs": [
    {
     "name": "stdout",
     "output_type": "stream",
     "text": [
      "X before SMOTE: 889\n",
      "X after SMOTE: 1098\n",
      "y before SMOTE: 889\n",
      "y after SMOTE: 1098\n",
      "\n"
     ]
    }
   ],
   "source": [
    "print('''X before SMOTE: %d\n",
    "X after SMOTE: %d\n",
    "y before SMOTE: %d\n",
    "y after SMOTE: %d\n",
    "''' %(train.shape[0],X_model.shape[0],len(y_train),len(y_model)))"
   ]
  },
  {
   "cell_type": "code",
   "execution_count": 85,
   "metadata": {},
   "outputs": [
    {
     "data": {
      "image/png": "[encoded data removed]",
      "text/plain": [
       "<matplotlib.figure.Figure at 0x133fc278>"
      ]
     },
     "metadata": {},
     "output_type": "display_data"
    }
   ],
   "source": [
    "ax = pd.crosstab(index = y_model, columns=\"count\",rownames=['survived']).plot(kind='bar', title=\"Survived count\",legend=False)\n",
    "for p in ax.patches:\n",
    "    ax.annotate(str(format(int(p.get_height()), ',d')), (p.get_x(), p.get_height()))"
   ]
  },
  {
   "cell_type": "code",
   "execution_count": 86,
   "metadata": {
    "collapsed": true
   },
   "outputs": [],
   "source": [
    "train_cv_size = X_model.shape[0]\n",
    "train_size = int(train_cv_size * 0.8)\n",
    "shuffled_indices = np.random.permutation(train_cv_size)"
   ]
  },
  {
   "cell_type": "code",
   "execution_count": 87,
   "metadata": {
    "collapsed": true
   },
   "outputs": [],
   "source": [
    "train_x = X_model[shuffled_indices[:train_size],:]\n",
    "train_y = y_model[shuffled_indices[:train_size]]\n",
    "val_x = X_model[shuffled_indices[train_size:],:]\n",
    "val_y = y_model[shuffled_indices[train_size:]]"
   ]
  },
  {
   "cell_type": "code",
   "execution_count": null,
   "metadata": {
    "collapsed": true
   },
   "outputs": [],
   "source": []
  },
  {
   "cell_type": "markdown",
   "metadata": {},
   "source": [
    "### modeling (logistic regression, svm, gradient boosting, random forest)"
   ]
  },
  {
   "cell_type": "markdown",
   "metadata": {},
   "source": [
    "### generate general model and general plot"
   ]
  },
  {
   "cell_type": "code",
   "execution_count": 89,
   "metadata": {},
   "outputs": [
    {
     "name": "stdout",
     "output_type": "stream",
     "text": [
      "The accuracy of best model on validation is 0.790909 \n",
      "Confusion matrix of best model on validation: \n",
      "[[89 24]\n",
      " [22 85]]\n"
     ]
    }
   ],
   "source": [
    "param_grid = {'C':np.logspace(-4,4,num=9)}\n",
    "LR_model = get_best_model(LogisticRegression(random_state=1),train_x,train_y,params=param_grid)"
   ]
  },
  {
   "cell_type": "markdown",
   "metadata": {},
   "source": [
    "### SVM"
   ]
  },
  {
   "cell_type": "code",
   "execution_count": 93,
   "metadata": {},
   "outputs": [
    {
     "name": "stdout",
     "output_type": "stream",
     "text": [
      "The accuracy of best model on validation is 0.818182 \n",
      "Confusion matrix of best model on validation: \n",
      "[[89 24]\n",
      " [16 91]]\n"
     ]
    }
   ],
   "source": [
    "param_grid={\"C\": [1e0, 1e1, 1e2, 1e3],\"gamma\": np.logspace(-2, 2, 5)}\n",
    "SVM_model = get_best_model(SVC(kernel='rbf', gamma=0.1,random_state=1),train_x,train_y,params=param_grid)"
   ]
  },
  {
   "cell_type": "code",
   "execution_count": null,
   "metadata": {
    "collapsed": true
   },
   "outputs": [],
   "source": []
  },
  {
   "cell_type": "markdown",
   "metadata": {},
   "source": [
    "#### RF"
   ]
  },
  {
   "cell_type": "code",
   "execution_count": 115,
   "metadata": {
    "collapsed": true
   },
   "outputs": [],
   "source": []
  },
  {
   "cell_type": "code",
   "execution_count": 94,
   "metadata": {},
   "outputs": [
    {
     "name": "stdout",
     "output_type": "stream",
     "text": [
      "The accuracy of best model on validation is 0.822727 \n",
      "Confusion matrix of best model on validation: \n",
      "[[90 23]\n",
      " [16 91]]\n"
     ]
    }
   ],
   "source": [
    "param_grid={\"criterion\": [\"gini\", \"entropy\"]}\n",
    "RF_model = get_best_model(RandomForestClassifier(random_state=1),train_x,train_y,params=param_grid)"
   ]
  },
  {
   "cell_type": "code",
   "execution_count": null,
   "metadata": {
    "collapsed": true
   },
   "outputs": [],
   "source": []
  },
  {
   "cell_type": "markdown",
   "metadata": {},
   "source": [
    "#### gradient boosting"
   ]
  },
  {
   "cell_type": "code",
   "execution_count": 95,
   "metadata": {},
   "outputs": [
    {
     "name": "stdout",
     "output_type": "stream",
     "text": [
      "The accuracy of best model on validation is 0.818182 \n",
      "Confusion matrix of best model on validation: \n",
      "[[91 22]\n",
      " [18 89]]\n"
     ]
    }
   ],
   "source": [
    "param_grid={'max_depth':range(3,10,2), 'learning_rate':[0.001,0.01,0.1] }\n",
    "GB_model = get_best_model(GradientBoostingClassifier(random_state=1),train_x,train_y,params=param_grid)"
   ]
  },
  {
   "cell_type": "code",
   "execution_count": null,
   "metadata": {
    "collapsed": true
   },
   "outputs": [],
   "source": []
  },
  {
   "cell_type": "code",
   "execution_count": null,
   "metadata": {
    "collapsed": true
   },
   "outputs": [],
   "source": []
  }
 ],
 "metadata": {
  "kernelspec": {
   "display_name": "Python 3",
   "language": "python",
   "name": "python3"
  },
  "language_info": {
   "codemirror_mode": {
    "name": "ipython",
    "version": 3
   },
   "file_extension": ".py",
   "mimetype": "text/x-python",
   "name": "python",
   "nbconvert_exporter": "python",
   "pygments_lexer": "ipython3",
   "version": "3.6.4"
  }
 },
 "nbformat": 4,
 "nbformat_minor": 2
}
